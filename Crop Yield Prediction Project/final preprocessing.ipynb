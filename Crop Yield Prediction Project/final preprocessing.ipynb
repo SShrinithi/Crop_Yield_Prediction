{
 "cells": [
  {
   "cell_type": "markdown",
   "id": "d0868df0-aef2-4948-bf0e-0cede11b9adf",
   "metadata": {},
   "source": [
    "# Reading Dataset"
   ]
  },
  {
   "cell_type": "code",
   "execution_count": 2,
   "id": "a44eebd7-618d-4977-88bf-285a354cc523",
   "metadata": {},
   "outputs": [
    {
     "data": {
      "text/html": [
       "<div>\n",
       "<style scoped>\n",
       "    .dataframe tbody tr th:only-of-type {\n",
       "        vertical-align: middle;\n",
       "    }\n",
       "\n",
       "    .dataframe tbody tr th {\n",
       "        vertical-align: top;\n",
       "    }\n",
       "\n",
       "    .dataframe thead th {\n",
       "        text-align: right;\n",
       "    }\n",
       "</style>\n",
       "<table border=\"1\" class=\"dataframe\">\n",
       "  <thead>\n",
       "    <tr style=\"text-align: right;\">\n",
       "      <th></th>\n",
       "      <th>Soil_Type</th>\n",
       "      <th>N</th>\n",
       "      <th>P</th>\n",
       "      <th>K</th>\n",
       "      <th>pH</th>\n",
       "      <th>rainfall</th>\n",
       "      <th>temperature</th>\n",
       "      <th>Area_in_hectares</th>\n",
       "      <th>Production_in_tons</th>\n",
       "      <th>Yield_ton_per_hec</th>\n",
       "    </tr>\n",
       "  </thead>\n",
       "  <tbody>\n",
       "    <tr>\n",
       "      <th>0</th>\n",
       "      <td>kharif</td>\n",
       "      <td>120</td>\n",
       "      <td>40</td>\n",
       "      <td>20</td>\n",
       "      <td>5.46</td>\n",
       "      <td>654.34</td>\n",
       "      <td>29.266667</td>\n",
       "      <td>7300.0</td>\n",
       "      <td>9400.0</td>\n",
       "      <td>1.287671</td>\n",
       "    </tr>\n",
       "    <tr>\n",
       "      <th>1</th>\n",
       "      <td>kharif</td>\n",
       "      <td>20</td>\n",
       "      <td>60</td>\n",
       "      <td>20</td>\n",
       "      <td>6.18</td>\n",
       "      <td>654.34</td>\n",
       "      <td>29.266667</td>\n",
       "      <td>3300.0</td>\n",
       "      <td>1000.0</td>\n",
       "      <td>0.303030</td>\n",
       "    </tr>\n",
       "    <tr>\n",
       "      <th>2</th>\n",
       "      <td>kharif</td>\n",
       "      <td>80</td>\n",
       "      <td>40</td>\n",
       "      <td>40</td>\n",
       "      <td>5.42</td>\n",
       "      <td>654.34</td>\n",
       "      <td>29.266667</td>\n",
       "      <td>10100.0</td>\n",
       "      <td>10200.0</td>\n",
       "      <td>1.009901</td>\n",
       "    </tr>\n",
       "    <tr>\n",
       "      <th>3</th>\n",
       "      <td>kharif</td>\n",
       "      <td>80</td>\n",
       "      <td>40</td>\n",
       "      <td>20</td>\n",
       "      <td>5.62</td>\n",
       "      <td>654.34</td>\n",
       "      <td>29.266667</td>\n",
       "      <td>2800.0</td>\n",
       "      <td>4900.0</td>\n",
       "      <td>1.750000</td>\n",
       "    </tr>\n",
       "    <tr>\n",
       "      <th>4</th>\n",
       "      <td>kharif</td>\n",
       "      <td>20</td>\n",
       "      <td>40</td>\n",
       "      <td>20</td>\n",
       "      <td>5.68</td>\n",
       "      <td>654.34</td>\n",
       "      <td>29.266667</td>\n",
       "      <td>1300.0</td>\n",
       "      <td>500.0</td>\n",
       "      <td>0.384615</td>\n",
       "    </tr>\n",
       "    <tr>\n",
       "      <th>...</th>\n",
       "      <td>...</td>\n",
       "      <td>...</td>\n",
       "      <td>...</td>\n",
       "      <td>...</td>\n",
       "      <td>...</td>\n",
       "      <td>...</td>\n",
       "      <td>...</td>\n",
       "      <td>...</td>\n",
       "      <td>...</td>\n",
       "      <td>...</td>\n",
       "    </tr>\n",
       "    <tr>\n",
       "      <th>99844</th>\n",
       "      <td>rabi</td>\n",
       "      <td>60</td>\n",
       "      <td>30</td>\n",
       "      <td>30</td>\n",
       "      <td>6.70</td>\n",
       "      <td>152.54</td>\n",
       "      <td>22.280000</td>\n",
       "      <td>2013.0</td>\n",
       "      <td>5152.0</td>\n",
       "      <td>2.559364</td>\n",
       "    </tr>\n",
       "    <tr>\n",
       "      <th>99845</th>\n",
       "      <td>summer</td>\n",
       "      <td>80</td>\n",
       "      <td>40</td>\n",
       "      <td>20</td>\n",
       "      <td>5.68</td>\n",
       "      <td>182.50</td>\n",
       "      <td>29.200000</td>\n",
       "      <td>258.0</td>\n",
       "      <td>391.0</td>\n",
       "      <td>1.515504</td>\n",
       "    </tr>\n",
       "    <tr>\n",
       "      <th>99846</th>\n",
       "      <td>summer</td>\n",
       "      <td>80</td>\n",
       "      <td>40</td>\n",
       "      <td>40</td>\n",
       "      <td>5.64</td>\n",
       "      <td>182.50</td>\n",
       "      <td>29.200000</td>\n",
       "      <td>105.0</td>\n",
       "      <td>281.0</td>\n",
       "      <td>2.676190</td>\n",
       "    </tr>\n",
       "    <tr>\n",
       "      <th>99847</th>\n",
       "      <td>rabi</td>\n",
       "      <td>80</td>\n",
       "      <td>40</td>\n",
       "      <td>40</td>\n",
       "      <td>5.42</td>\n",
       "      <td>152.54</td>\n",
       "      <td>22.280000</td>\n",
       "      <td>152676.0</td>\n",
       "      <td>261435.0</td>\n",
       "      <td>1.712352</td>\n",
       "    </tr>\n",
       "    <tr>\n",
       "      <th>99848</th>\n",
       "      <td>rabi</td>\n",
       "      <td>30</td>\n",
       "      <td>15</td>\n",
       "      <td>30</td>\n",
       "      <td>6.54</td>\n",
       "      <td>152.54</td>\n",
       "      <td>22.280000</td>\n",
       "      <td>244.0</td>\n",
       "      <td>95.0</td>\n",
       "      <td>0.389344</td>\n",
       "    </tr>\n",
       "  </tbody>\n",
       "</table>\n",
       "<p>99849 rows × 10 columns</p>\n",
       "</div>"
      ],
      "text/plain": [
       "      Soil_Type    N   P   K    pH  rainfall  temperature  Area_in_hectares  \\\n",
       "0        kharif  120  40  20  5.46    654.34    29.266667            7300.0   \n",
       "1        kharif   20  60  20  6.18    654.34    29.266667            3300.0   \n",
       "2        kharif   80  40  40  5.42    654.34    29.266667           10100.0   \n",
       "3        kharif   80  40  20  5.62    654.34    29.266667            2800.0   \n",
       "4        kharif   20  40  20  5.68    654.34    29.266667            1300.0   \n",
       "...         ...  ...  ..  ..   ...       ...          ...               ...   \n",
       "99844      rabi   60  30  30  6.70    152.54    22.280000            2013.0   \n",
       "99845    summer   80  40  20  5.68    182.50    29.200000             258.0   \n",
       "99846    summer   80  40  40  5.64    182.50    29.200000             105.0   \n",
       "99847      rabi   80  40  40  5.42    152.54    22.280000          152676.0   \n",
       "99848      rabi   30  15  30  6.54    152.54    22.280000             244.0   \n",
       "\n",
       "       Production_in_tons  Yield_ton_per_hec  \n",
       "0                  9400.0           1.287671  \n",
       "1                  1000.0           0.303030  \n",
       "2                 10200.0           1.009901  \n",
       "3                  4900.0           1.750000  \n",
       "4                   500.0           0.384615  \n",
       "...                   ...                ...  \n",
       "99844              5152.0           2.559364  \n",
       "99845               391.0           1.515504  \n",
       "99846               281.0           2.676190  \n",
       "99847            261435.0           1.712352  \n",
       "99848                95.0           0.389344  \n",
       "\n",
       "[99849 rows x 10 columns]"
      ]
     },
     "execution_count": 2,
     "metadata": {},
     "output_type": "execute_result"
    }
   ],
   "source": [
    "import pandas as pd\n",
    "df=pd.read_csv(\"Crop.csv\")\n",
    "df"
   ]
  },
  {
   "cell_type": "code",
   "execution_count": 3,
   "id": "9bdf992a-e14e-4ee0-9366-c400d3fa699f",
   "metadata": {},
   "outputs": [
    {
     "data": {
      "text/html": [
       "<div>\n",
       "<style scoped>\n",
       "    .dataframe tbody tr th:only-of-type {\n",
       "        vertical-align: middle;\n",
       "    }\n",
       "\n",
       "    .dataframe tbody tr th {\n",
       "        vertical-align: top;\n",
       "    }\n",
       "\n",
       "    .dataframe thead th {\n",
       "        text-align: right;\n",
       "    }\n",
       "</style>\n",
       "<table border=\"1\" class=\"dataframe\">\n",
       "  <thead>\n",
       "    <tr style=\"text-align: right;\">\n",
       "      <th></th>\n",
       "      <th>Soil_Type</th>\n",
       "      <th>N</th>\n",
       "      <th>P</th>\n",
       "      <th>K</th>\n",
       "      <th>pH</th>\n",
       "      <th>rainfall</th>\n",
       "      <th>temperature</th>\n",
       "      <th>Area_in_hectares</th>\n",
       "      <th>Production_in_tons</th>\n",
       "      <th>Yield_ton_per_hec</th>\n",
       "    </tr>\n",
       "  </thead>\n",
       "  <tbody>\n",
       "    <tr>\n",
       "      <th>0</th>\n",
       "      <td>kharif</td>\n",
       "      <td>120</td>\n",
       "      <td>40</td>\n",
       "      <td>20</td>\n",
       "      <td>5.46</td>\n",
       "      <td>654.34</td>\n",
       "      <td>29.266667</td>\n",
       "      <td>7300.0</td>\n",
       "      <td>9400.0</td>\n",
       "      <td>1.287671</td>\n",
       "    </tr>\n",
       "    <tr>\n",
       "      <th>1</th>\n",
       "      <td>kharif</td>\n",
       "      <td>20</td>\n",
       "      <td>60</td>\n",
       "      <td>20</td>\n",
       "      <td>6.18</td>\n",
       "      <td>654.34</td>\n",
       "      <td>29.266667</td>\n",
       "      <td>3300.0</td>\n",
       "      <td>1000.0</td>\n",
       "      <td>0.303030</td>\n",
       "    </tr>\n",
       "    <tr>\n",
       "      <th>2</th>\n",
       "      <td>kharif</td>\n",
       "      <td>80</td>\n",
       "      <td>40</td>\n",
       "      <td>40</td>\n",
       "      <td>5.42</td>\n",
       "      <td>654.34</td>\n",
       "      <td>29.266667</td>\n",
       "      <td>10100.0</td>\n",
       "      <td>10200.0</td>\n",
       "      <td>1.009901</td>\n",
       "    </tr>\n",
       "    <tr>\n",
       "      <th>3</th>\n",
       "      <td>kharif</td>\n",
       "      <td>80</td>\n",
       "      <td>40</td>\n",
       "      <td>20</td>\n",
       "      <td>5.62</td>\n",
       "      <td>654.34</td>\n",
       "      <td>29.266667</td>\n",
       "      <td>2800.0</td>\n",
       "      <td>4900.0</td>\n",
       "      <td>1.750000</td>\n",
       "    </tr>\n",
       "    <tr>\n",
       "      <th>4</th>\n",
       "      <td>kharif</td>\n",
       "      <td>20</td>\n",
       "      <td>40</td>\n",
       "      <td>20</td>\n",
       "      <td>5.68</td>\n",
       "      <td>654.34</td>\n",
       "      <td>29.266667</td>\n",
       "      <td>1300.0</td>\n",
       "      <td>500.0</td>\n",
       "      <td>0.384615</td>\n",
       "    </tr>\n",
       "  </tbody>\n",
       "</table>\n",
       "</div>"
      ],
      "text/plain": [
       "  Soil_Type    N   P   K    pH  rainfall  temperature  Area_in_hectares  \\\n",
       "0    kharif  120  40  20  5.46    654.34    29.266667            7300.0   \n",
       "1    kharif   20  60  20  6.18    654.34    29.266667            3300.0   \n",
       "2    kharif   80  40  40  5.42    654.34    29.266667           10100.0   \n",
       "3    kharif   80  40  20  5.62    654.34    29.266667            2800.0   \n",
       "4    kharif   20  40  20  5.68    654.34    29.266667            1300.0   \n",
       "\n",
       "   Production_in_tons  Yield_ton_per_hec  \n",
       "0              9400.0           1.287671  \n",
       "1              1000.0           0.303030  \n",
       "2             10200.0           1.009901  \n",
       "3              4900.0           1.750000  \n",
       "4               500.0           0.384615  "
      ]
     },
     "execution_count": 3,
     "metadata": {},
     "output_type": "execute_result"
    }
   ],
   "source": [
    "df.head()"
   ]
  },
  {
   "cell_type": "code",
   "execution_count": 4,
   "id": "27745eb9-a79a-400a-8f40-81abd6388a22",
   "metadata": {},
   "outputs": [
    {
     "data": {
      "text/html": [
       "<div>\n",
       "<style scoped>\n",
       "    .dataframe tbody tr th:only-of-type {\n",
       "        vertical-align: middle;\n",
       "    }\n",
       "\n",
       "    .dataframe tbody tr th {\n",
       "        vertical-align: top;\n",
       "    }\n",
       "\n",
       "    .dataframe thead th {\n",
       "        text-align: right;\n",
       "    }\n",
       "</style>\n",
       "<table border=\"1\" class=\"dataframe\">\n",
       "  <thead>\n",
       "    <tr style=\"text-align: right;\">\n",
       "      <th></th>\n",
       "      <th>Soil_Type</th>\n",
       "      <th>N</th>\n",
       "      <th>P</th>\n",
       "      <th>K</th>\n",
       "      <th>pH</th>\n",
       "      <th>rainfall</th>\n",
       "      <th>temperature</th>\n",
       "      <th>Area_in_hectares</th>\n",
       "      <th>Production_in_tons</th>\n",
       "      <th>Yield_ton_per_hec</th>\n",
       "    </tr>\n",
       "  </thead>\n",
       "  <tbody>\n",
       "    <tr>\n",
       "      <th>99844</th>\n",
       "      <td>rabi</td>\n",
       "      <td>60</td>\n",
       "      <td>30</td>\n",
       "      <td>30</td>\n",
       "      <td>6.70</td>\n",
       "      <td>152.54</td>\n",
       "      <td>22.28</td>\n",
       "      <td>2013.0</td>\n",
       "      <td>5152.0</td>\n",
       "      <td>2.559364</td>\n",
       "    </tr>\n",
       "    <tr>\n",
       "      <th>99845</th>\n",
       "      <td>summer</td>\n",
       "      <td>80</td>\n",
       "      <td>40</td>\n",
       "      <td>20</td>\n",
       "      <td>5.68</td>\n",
       "      <td>182.50</td>\n",
       "      <td>29.20</td>\n",
       "      <td>258.0</td>\n",
       "      <td>391.0</td>\n",
       "      <td>1.515504</td>\n",
       "    </tr>\n",
       "    <tr>\n",
       "      <th>99846</th>\n",
       "      <td>summer</td>\n",
       "      <td>80</td>\n",
       "      <td>40</td>\n",
       "      <td>40</td>\n",
       "      <td>5.64</td>\n",
       "      <td>182.50</td>\n",
       "      <td>29.20</td>\n",
       "      <td>105.0</td>\n",
       "      <td>281.0</td>\n",
       "      <td>2.676190</td>\n",
       "    </tr>\n",
       "    <tr>\n",
       "      <th>99847</th>\n",
       "      <td>rabi</td>\n",
       "      <td>80</td>\n",
       "      <td>40</td>\n",
       "      <td>40</td>\n",
       "      <td>5.42</td>\n",
       "      <td>152.54</td>\n",
       "      <td>22.28</td>\n",
       "      <td>152676.0</td>\n",
       "      <td>261435.0</td>\n",
       "      <td>1.712352</td>\n",
       "    </tr>\n",
       "    <tr>\n",
       "      <th>99848</th>\n",
       "      <td>rabi</td>\n",
       "      <td>30</td>\n",
       "      <td>15</td>\n",
       "      <td>30</td>\n",
       "      <td>6.54</td>\n",
       "      <td>152.54</td>\n",
       "      <td>22.28</td>\n",
       "      <td>244.0</td>\n",
       "      <td>95.0</td>\n",
       "      <td>0.389344</td>\n",
       "    </tr>\n",
       "  </tbody>\n",
       "</table>\n",
       "</div>"
      ],
      "text/plain": [
       "      Soil_Type   N   P   K    pH  rainfall  temperature  Area_in_hectares  \\\n",
       "99844      rabi  60  30  30  6.70    152.54        22.28            2013.0   \n",
       "99845    summer  80  40  20  5.68    182.50        29.20             258.0   \n",
       "99846    summer  80  40  40  5.64    182.50        29.20             105.0   \n",
       "99847      rabi  80  40  40  5.42    152.54        22.28          152676.0   \n",
       "99848      rabi  30  15  30  6.54    152.54        22.28             244.0   \n",
       "\n",
       "       Production_in_tons  Yield_ton_per_hec  \n",
       "99844              5152.0           2.559364  \n",
       "99845               391.0           1.515504  \n",
       "99846               281.0           2.676190  \n",
       "99847            261435.0           1.712352  \n",
       "99848                95.0           0.389344  "
      ]
     },
     "execution_count": 4,
     "metadata": {},
     "output_type": "execute_result"
    }
   ],
   "source": [
    "df.tail()"
   ]
  },
  {
   "cell_type": "code",
   "execution_count": 5,
   "id": "4adf75b3-e822-4605-bfa4-728000ed6f20",
   "metadata": {},
   "outputs": [
    {
     "data": {
      "text/plain": [
       "Index(['Soil_Type', 'N', 'P', 'K', 'pH', 'rainfall', 'temperature',\n",
       "       'Area_in_hectares', 'Production_in_tons', 'Yield_ton_per_hec'],\n",
       "      dtype='object')"
      ]
     },
     "execution_count": 5,
     "metadata": {},
     "output_type": "execute_result"
    }
   ],
   "source": [
    "df.columns"
   ]
  },
  {
   "cell_type": "markdown",
   "id": "1e57fd79-ba44-4b2a-a4cc-0117b45f7490",
   "metadata": {},
   "source": [
    "# to check for missing values,if missing use mean to replace the missing value"
   ]
  },
  {
   "cell_type": "code",
   "execution_count": 6,
   "id": "8410faf5-8773-4ced-8d3f-20e925d5019c",
   "metadata": {},
   "outputs": [
    {
     "data": {
      "text/plain": [
       "Soil_Type             0\n",
       "N                     0\n",
       "P                     0\n",
       "K                     0\n",
       "pH                    0\n",
       "rainfall              0\n",
       "temperature           0\n",
       "Area_in_hectares      0\n",
       "Production_in_tons    0\n",
       "Yield_ton_per_hec     0\n",
       "dtype: int64"
      ]
     },
     "execution_count": 6,
     "metadata": {},
     "output_type": "execute_result"
    }
   ],
   "source": [
    "#to check for missing values,if missing use mean to replace the missing values\n",
    "df.isnull().sum()"
   ]
  },
  {
   "cell_type": "markdown",
   "id": "94a780be-a88a-4365-8c1f-2db7fb2209f6",
   "metadata": {},
   "source": [
    "# to check for unique values in a column"
   ]
  },
  {
   "cell_type": "code",
   "execution_count": 7,
   "id": "90ce203b-f57c-4cd3-ae51-ed11ea775606",
   "metadata": {},
   "outputs": [
    {
     "data": {
      "text/plain": [
       "array([29.26666667, 25.46      , 11.2       ,  1.18      , 27.33333333,\n",
       "       20.8       , 25.03333333, 23.73636364, 33.58333333, 23.106     ,\n",
       "       34.92333333, 29.18636364, 28.65727273, 27.31666667, 28.474     ,\n",
       "       30.61666667, 27.276     , 29.95636364, 35.34666667, 21.704     ,\n",
       "       28.50727273, 27.86666667, 14.7       , 22.6       , 21.3       ,\n",
       "       25.83333333, 22.89090909, 27.90909091, 30.43      , 23.562     ,\n",
       "       26.36666667, 25.6       , 27.96666667, 26.45454545, 27.23333333,\n",
       "       26.01818182, 22.07      , 15.852     , 18.77818182, 26.64666667,\n",
       "       21.482     , 24.59818182, 26.43333333, 18.92      , 28.5       ,\n",
       "       23.56      , 30.26666667, 26.73636364, 34.73      , 20.312     ,\n",
       "       27.22727273, 33.37333333, 22.766     , 28.54545455, 29.56666667,\n",
       "       27.65454545, 28.68      , 25.574     , 34.01      , 22.676     ,\n",
       "       34.66666667, 29.03727273, 28.33333333, 22.28      , 29.2       ,\n",
       "       25.81818182,  4.9       , 28.7       , 16.82      , 22.70909091,\n",
       "       28.22333333, 27.016     , 22.03333333, 10.38      , 15.5       ,\n",
       "       27.        , 29.33333333, 27.6       , 23.14      , 29.6       ,\n",
       "       29.4       , 25.76      , 29.        , 20.1       , 12.5       ,\n",
       "       25.44      , 27.26666667, 21.66      , 28.08181818, 28.64818182,\n",
       "       22.19090909, 27.63636364, 28.99454545, 24.60909091, 27.03636364,\n",
       "       28.03333333, 22.38      , 26.51818182, 33.76333333, 20.70909091,\n",
       "       25.66666667, 14.6       , 19.94545455, 18.58      , 15.61818182,\n",
       "       23.13333333, 22.92727273, 20.36333333, 26.6       ])"
      ]
     },
     "execution_count": 7,
     "metadata": {},
     "output_type": "execute_result"
    }
   ],
   "source": [
    "#to check for unique values in a column\n",
    "df[\"temperature\"].unique()"
   ]
  },
  {
   "cell_type": "code",
   "execution_count": 8,
   "id": "5378e394-88f9-4e69-8719-adc8ef5b2f9f",
   "metadata": {},
   "outputs": [
    {
     "data": {
      "text/plain": [
       "array([5.46, 6.18, 5.42, 5.62, 5.68, 5.64, 5.54, 5.36, 6.  , 5.5 , 5.6 ,\n",
       "       5.32, 6.4 , 5.98, 5.4 , 5.9 , 5.48, 5.38, 5.66, 5.58, 5.34, 6.34,\n",
       "       5.56, 5.94, 6.42, 6.48, 5.44, 6.02, 6.68, 5.52, 6.6 , 5.82, 6.44,\n",
       "       6.08, 6.7 , 6.46, 6.1 , 6.5 , 6.54, 6.66, 6.36, 5.84, 6.64, 6.04,\n",
       "       5.14, 6.3 , 6.38, 4.96, 6.12, 4.94, 5.18, 6.8 , 6.56, 5.08, 6.32,\n",
       "       4.9 , 7.  , 6.58, 4.98, 5.02, 4.92, 6.62, 5.12, 4.82, 4.88, 4.84,\n",
       "       5.04, 6.06, 5.  , 5.88, 6.14, 6.11, 5.1 , 5.06, 4.86, 6.16, 5.86,\n",
       "       6.9 , 6.52, 5.16, 5.96, 5.92, 4.12, 3.98, 3.92, 4.  , 4.08, 4.02,\n",
       "       3.82, 4.06, 3.86, 3.96, 3.94, 3.84, 4.04, 4.18, 4.1 , 3.88, 4.16,\n",
       "       3.9 , 4.14])"
      ]
     },
     "execution_count": 8,
     "metadata": {},
     "output_type": "execute_result"
    }
   ],
   "source": [
    "df[\"pH\"].unique()"
   ]
  },
  {
   "cell_type": "code",
   "execution_count": 9,
   "id": "b95489c7-6b6c-4192-a49b-f183bee28617",
   "metadata": {},
   "outputs": [
    {
     "data": {
      "text/plain": [
       "array([120,  20,  80,  50,  60,  30, 100, 180,  90,  25,  70,  10,  75,\n",
       "        40, 160], dtype=int64)"
      ]
     },
     "execution_count": 9,
     "metadata": {},
     "output_type": "execute_result"
    }
   ],
   "source": [
    "df[\"N\"].unique()"
   ]
  },
  {
   "cell_type": "markdown",
   "id": "6d515b44-b1f4-4fd9-8226-55ad13c459a6",
   "metadata": {},
   "source": [
    "# Boxplot (to check outliers)"
   ]
  },
  {
   "cell_type": "code",
   "execution_count": 10,
   "id": "db53d018-c1d7-4423-86b6-d3f880eb396c",
   "metadata": {},
   "outputs": [
    {
     "data": {
      "text/plain": [
       "<Axes: ylabel='temperature'>"
      ]
     },
     "execution_count": 10,
     "metadata": {},
     "output_type": "execute_result"
    },
    {
     "data": {
      "image/png": "[encoded data removed]",
      "text/plain": [
       "<Figure size 640x480 with 1 Axes>"
      ]
     },
     "metadata": {},
     "output_type": "display_data"
    }
   ],
   "source": [
    "import seaborn as sns\n",
    "sns.boxplot(df[\"temperature\"])"
   ]
  },
  {
   "cell_type": "code",
   "execution_count": 11,
   "id": "fdf7b9ae-3bad-48a8-92a0-bdc96e9a3164",
   "metadata": {},
   "outputs": [
    {
     "name": "stdout",
     "output_type": "stream",
     "text": [
      "\n",
      "Outliers detected using IQR method:\n",
      "      Soil_Type   N   P   K    pH  rainfall  temperature  Area_in_hectares  \\\n",
      "168      kharif  80  40  20  5.58   1712.66         11.2            1520.0   \n",
      "169      kharif  80  40  40  5.34   1712.66         11.2           11500.0   \n",
      "170      kharif  30  15  30  6.36   1712.66         11.2             424.0   \n",
      "171      kharif  20  60  20  5.44   1712.66         11.2             373.0   \n",
      "172      kharif  50  60  30  5.68   1712.66         11.2              51.0   \n",
      "...         ...  ..  ..  ..   ...       ...          ...               ...   \n",
      "98095      rabi  50  40  20  4.84    140.52         12.5            1450.0   \n",
      "98096      rabi  60  30  30  6.90    140.52         12.5             370.0   \n",
      "98100      rabi  70  40  45  5.66    140.52         12.5              40.0   \n",
      "98101      rabi  50  40  20  5.16    140.52         12.5            1550.0   \n",
      "98102      rabi  60  30  30  6.50    140.52         12.5             810.0   \n",
      "\n",
      "       Production_in_tons  Yield_ton_per_hec  \n",
      "168                2725.0           1.792763  \n",
      "169               13800.0           1.200000  \n",
      "170                 313.0           0.738208  \n",
      "171                 450.0           1.206434  \n",
      "172                  24.0           0.470588  \n",
      "...                   ...                ...  \n",
      "98095              1176.0           0.811034  \n",
      "98096               411.0           1.110811  \n",
      "98100                39.0           0.975000  \n",
      "98101              1135.0           0.732258  \n",
      "98102               621.0           0.766667  \n",
      "\n",
      "[1596 rows x 10 columns]\n"
     ]
    }
   ],
   "source": [
    "Q1 = df['temperature'].quantile(0.25)\n",
    "Q3 = df['temperature'].quantile(0.75)\n",
    "IQR = Q3 - Q1\n",
    "lower_bound = Q1 - 1.5 * IQR\n",
    "upper_bound = Q3 + 1.5 * IQR\n",
    "outliers_iqr = df[(df['temperature'] < lower_bound) | (df['temperature'] > upper_bound)]\n",
    "print(\"\\nOutliers detected using IQR method:\")\n",
    "print(outliers_iqr)"
   ]
  },
  {
   "cell_type": "code",
   "execution_count": 12,
   "id": "af5814bd-163f-454c-a3be-e1b1ce8d8df5",
   "metadata": {},
   "outputs": [
    {
     "name": "stdout",
     "output_type": "stream",
     "text": [
      "\n",
      "DataFrame after removing outliers using IQR method:\n",
      "      Soil_Type    N   P   K    pH  rainfall  temperature  Area_in_hectares  \\\n",
      "0        kharif  120  40  20  5.46    654.34    29.266667            7300.0   \n",
      "1        kharif   20  60  20  6.18    654.34    29.266667            3300.0   \n",
      "2        kharif   80  40  40  5.42    654.34    29.266667           10100.0   \n",
      "3        kharif   80  40  20  5.62    654.34    29.266667            2800.0   \n",
      "4        kharif   20  40  20  5.68    654.34    29.266667            1300.0   \n",
      "...         ...  ...  ..  ..   ...       ...          ...               ...   \n",
      "99844      rabi   60  30  30  6.70    152.54    22.280000            2013.0   \n",
      "99845    summer   80  40  20  5.68    182.50    29.200000             258.0   \n",
      "99846    summer   80  40  40  5.64    182.50    29.200000             105.0   \n",
      "99847      rabi   80  40  40  5.42    152.54    22.280000          152676.0   \n",
      "99848      rabi   30  15  30  6.54    152.54    22.280000             244.0   \n",
      "\n",
      "       Production_in_tons  Yield_ton_per_hec  \n",
      "0                  9400.0           1.287671  \n",
      "1                  1000.0           0.303030  \n",
      "2                 10200.0           1.009901  \n",
      "3                  4900.0           1.750000  \n",
      "4                   500.0           0.384615  \n",
      "...                   ...                ...  \n",
      "99844              5152.0           2.559364  \n",
      "99845               391.0           1.515504  \n",
      "99846               281.0           2.676190  \n",
      "99847            261435.0           1.712352  \n",
      "99848                95.0           0.389344  \n",
      "\n",
      "[98253 rows x 10 columns]\n"
     ]
    }
   ],
   "source": [
    "df1 = df[(df['temperature'] >= lower_bound) & (df['temperature'] <= upper_bound)]\n",
    "print(\"\\nDataFrame after removing outliers using IQR method:\")\n",
    "print(df1)"
   ]
  },
  {
   "cell_type": "code",
   "execution_count": 13,
   "id": "7776023d-df8a-4c49-b145-f2c0be50e812",
   "metadata": {},
   "outputs": [
    {
     "data": {
      "text/plain": [
       "<Axes: ylabel='temperature'>"
      ]
     },
     "execution_count": 13,
     "metadata": {},
     "output_type": "execute_result"
    },
    {
     "data": {
      "image/png": "[encoded data removed]",
      "text/plain": [
       "<Figure size 640x480 with 1 Axes>"
      ]
     },
     "metadata": {},
     "output_type": "display_data"
    }
   ],
   "source": [
    "sns.boxplot(df1[\"temperature\"])"
   ]
  },
  {
   "cell_type": "code",
   "execution_count": 15,
   "id": "0ceb6a9d-107d-46d0-b1a7-8fe8ee75e27a",
   "metadata": {},
   "outputs": [],
   "source": [
    "df1.to_csv(\"c_data.csv\")"
   ]
  },
  {
   "cell_type": "code",
   "execution_count": 16,
   "id": "c4b9088c-aed9-4dd0-93c5-2d0355ed7fe0",
   "metadata": {},
   "outputs": [
    {
     "data": {
      "text/plain": [
       "<Axes: ylabel='N'>"
      ]
     },
     "execution_count": 16,
     "metadata": {},
     "output_type": "execute_result"
    },
    {
     "data": {
      "image/png": "[encoded data removed]",
      "text/plain": [
       "<Figure size 640x480 with 1 Axes>"
      ]
     },
     "metadata": {},
     "output_type": "display_data"
    }
   ],
   "source": [
    "sns.boxplot(df1[\"N\"])"
   ]
  },
  {
   "cell_type": "code",
   "execution_count": 17,
   "id": "54700759-f7e1-4495-a887-93e4a0e1ee60",
   "metadata": {},
   "outputs": [
    {
     "name": "stdout",
     "output_type": "stream",
     "text": [
      "\n",
      "Outliers detected using IQR method:\n",
      "        Soil_Type    N   P   K    pH  rainfall  temperature  Area_in_hectares  \\\n",
      "264    whole year  180  60  90  5.12   2169.32    23.736364           10610.0   \n",
      "279    whole year  180  60  90  4.96   2169.32    23.736364            2720.0   \n",
      "294    whole year  180  60  90  5.04   2169.32    23.736364            1295.0   \n",
      "309    whole year  180  60  90  4.94   2169.32    23.736364            5196.0   \n",
      "324    whole year  180  60  90  5.02   2169.32    23.736364            2744.0   \n",
      "...           ...  ...  ..  ..   ...       ...          ...               ...   \n",
      "99772        rabi  180  60  90  5.00    152.54    22.280000            4872.0   \n",
      "99788        rabi  180  60  90  5.18    152.54    22.280000           64683.0   \n",
      "99806        rabi  180  60  90  4.96    152.54    22.280000           12249.0   \n",
      "99824        rabi  180  60  90  5.02    152.54    22.280000            7073.0   \n",
      "99842        rabi  180  60  90  4.84    152.54    22.280000             977.0   \n",
      "\n",
      "       Production_in_tons  Yield_ton_per_hec  \n",
      "264              165586.0          15.606598  \n",
      "279               21843.0           8.030515  \n",
      "294                6695.0           5.169884  \n",
      "309               29065.0           5.593726  \n",
      "324               16121.0           5.875000  \n",
      "...                   ...                ...  \n",
      "99772            129602.0          26.601396  \n",
      "99788           2482395.0          38.377858  \n",
      "99806            367960.0          30.040003  \n",
      "99824            193100.0          27.301004  \n",
      "99842             15920.0          16.294780  \n",
      "\n",
      "[5237 rows x 10 columns]\n"
     ]
    },
    {
     "name": "stderr",
     "output_type": "stream",
     "text": [
      "C:\\Users\\HARINY\\AppData\\Local\\Temp\\ipykernel_26552\\1857868797.py:6: UserWarning: Boolean Series key will be reindexed to match DataFrame index.\n",
      "  outliers_iqr = df1[(df['N'] < lower_bound) | (df['N'] > upper_bound)]\n"
     ]
    }
   ],
   "source": [
    "Q1 = df1['N'].quantile(0.25)\n",
    "Q3 = df1['N'].quantile(0.75)\n",
    "IQR = Q3 - Q1\n",
    "lower_bound = Q1 - 1.5 * IQR\n",
    "upper_bound = Q3 + 1.5 * IQR\n",
    "outliers_iqr = df1[(df['N'] < lower_bound) | (df['N'] > upper_bound)]\n",
    "print(\"\\nOutliers detected using IQR method:\")\n",
    "print(outliers_iqr)"
   ]
  },
  {
   "cell_type": "code",
   "execution_count": 18,
   "id": "85eaf863-397a-4695-88fa-76d53e4c9b85",
   "metadata": {},
   "outputs": [
    {
     "name": "stdout",
     "output_type": "stream",
     "text": [
      "\n",
      "DataFrame after removing outliers using IQR method:\n",
      "      Soil_Type    N   P   K    pH  rainfall  temperature  Area_in_hectares  \\\n",
      "0        kharif  120  40  20  5.46    654.34    29.266667            7300.0   \n",
      "1        kharif   20  60  20  6.18    654.34    29.266667            3300.0   \n",
      "2        kharif   80  40  40  5.42    654.34    29.266667           10100.0   \n",
      "3        kharif   80  40  20  5.62    654.34    29.266667            2800.0   \n",
      "4        kharif   20  40  20  5.68    654.34    29.266667            1300.0   \n",
      "...         ...  ...  ..  ..   ...       ...          ...               ...   \n",
      "99844      rabi   60  30  30  6.70    152.54    22.280000            2013.0   \n",
      "99845    summer   80  40  20  5.68    182.50    29.200000             258.0   \n",
      "99846    summer   80  40  40  5.64    182.50    29.200000             105.0   \n",
      "99847      rabi   80  40  40  5.42    152.54    22.280000          152676.0   \n",
      "99848      rabi   30  15  30  6.54    152.54    22.280000             244.0   \n",
      "\n",
      "       Production_in_tons  Yield_ton_per_hec  \n",
      "0                  9400.0           1.287671  \n",
      "1                  1000.0           0.303030  \n",
      "2                 10200.0           1.009901  \n",
      "3                  4900.0           1.750000  \n",
      "4                   500.0           0.384615  \n",
      "...                   ...                ...  \n",
      "99844              5152.0           2.559364  \n",
      "99845               391.0           1.515504  \n",
      "99846               281.0           2.676190  \n",
      "99847            261435.0           1.712352  \n",
      "99848                95.0           0.389344  \n",
      "\n",
      "[93016 rows x 10 columns]\n"
     ]
    },
    {
     "name": "stderr",
     "output_type": "stream",
     "text": [
      "C:\\Users\\HARINY\\AppData\\Local\\Temp\\ipykernel_26552\\3352635037.py:1: UserWarning: Boolean Series key will be reindexed to match DataFrame index.\n",
      "  df2 = df1[(df['N'] >= lower_bound) & (df['N'] <= upper_bound)]\n"
     ]
    }
   ],
   "source": [
    "df2 = df1[(df['N'] >= lower_bound) & (df['N'] <= upper_bound)]\n",
    "print(\"\\nDataFrame after removing outliers using IQR method:\")\n",
    "print(df2)"
   ]
  },
  {
   "cell_type": "code",
   "execution_count": 19,
   "id": "d2768b71-af3a-4c35-a194-c03ef8c6c938",
   "metadata": {},
   "outputs": [
    {
     "data": {
      "text/plain": [
       "<Axes: ylabel='N'>"
      ]
     },
     "execution_count": 19,
     "metadata": {},
     "output_type": "execute_result"
    },
    {
     "data": {
      "image/png": "[encoded data removed]",
      "text/plain": [
       "<Figure size 640x480 with 1 Axes>"
      ]
     },
     "metadata": {},
     "output_type": "display_data"
    }
   ],
   "source": [
    "sns.boxplot(df2[\"N\"])"
   ]
  },
  {
   "cell_type": "code",
   "execution_count": 20,
   "id": "26186187-1ef2-41f9-a29c-b181722eab65",
   "metadata": {},
   "outputs": [],
   "source": [
    "df2.to_csv(\"cr_data.csv\")"
   ]
  },
  {
   "cell_type": "code",
   "execution_count": 21,
   "id": "8385004c-01ba-4fbd-82c5-44d8e8e12b94",
   "metadata": {},
   "outputs": [
    {
     "data": {
      "text/plain": [
       "<Axes: ylabel='pH'>"
      ]
     },
     "execution_count": 21,
     "metadata": {},
     "output_type": "execute_result"
    },
    {
     "data": {
      "image/png": "[encoded data removed]",
      "text/plain": [
       "<Figure size 640x480 with 1 Axes>"
      ]
     },
     "metadata": {},
     "output_type": "display_data"
    }
   ],
   "source": [
    "sns.boxplot(df2[\"pH\"])"
   ]
  },
  {
   "cell_type": "code",
   "execution_count": 22,
   "id": "73a212ff-53fb-474e-8d44-9669653e508a",
   "metadata": {},
   "outputs": [
    {
     "name": "stdout",
     "output_type": "stream",
     "text": [
      "\n",
      "Outliers detected using IQR method:\n",
      "      Soil_Type   N   P   K   pH  rainfall  temperature  Area_in_hectares  \\\n",
      "924        rabi  60  30  30  7.0     87.20       23.106           15315.0   \n",
      "1009       rabi  60  30  30  7.0     87.20       23.106           60566.0   \n",
      "1386       rabi  60  30  30  7.0     15.34       27.276           65000.0   \n",
      "1470       rabi  60  30  30  7.0     41.30       21.704          163000.0   \n",
      "1506       rabi  60  30  30  7.0    293.36       14.700             516.0   \n",
      "...         ...  ..  ..  ..  ...       ...          ...               ...   \n",
      "98541      rabi  60  30  30  7.0     75.32       22.676          221809.0   \n",
      "98632      rabi  60  30  30  7.0     75.32       22.676          159722.0   \n",
      "98795      rabi  60  30  30  7.0     75.32       22.676          136560.0   \n",
      "98860      rabi  60  30  30  7.0     75.32       22.676          101839.0   \n",
      "99025      rabi  60  30  30  7.0     75.32       22.676          111495.0   \n",
      "\n",
      "       Production_in_tons  Yield_ton_per_hec  \n",
      "924               23850.0           1.557297  \n",
      "1009             168132.0           2.776013  \n",
      "1386             156500.0           2.407692  \n",
      "1470             577000.0           3.539877  \n",
      "1506                430.0           0.833333  \n",
      "...                   ...                ...  \n",
      "98541            786313.0           3.545000  \n",
      "98632            463983.0           2.904941  \n",
      "98795            442318.0           3.239001  \n",
      "98860            371203.0           3.644998  \n",
      "99025            435774.0           3.908462  \n",
      "\n",
      "[781 rows x 10 columns]\n"
     ]
    },
    {
     "name": "stderr",
     "output_type": "stream",
     "text": [
      "C:\\Users\\HARINY\\AppData\\Local\\Temp\\ipykernel_26552\\395053233.py:6: UserWarning: Boolean Series key will be reindexed to match DataFrame index.\n",
      "  outliers_iqr = df2[(df['pH'] < lower_bound) | (df['pH'] > upper_bound)]\n"
     ]
    }
   ],
   "source": [
    "Q1 = df2['pH'].quantile(0.25)\n",
    "Q3 = df2['pH'].quantile(0.75)\n",
    "IQR = Q3 - Q1\n",
    "lower_bound = Q1 - 1.5 * IQR\n",
    "upper_bound = Q3 + 1.5 * IQR\n",
    "outliers_iqr = df2[(df['pH'] < lower_bound) | (df['pH'] > upper_bound)]\n",
    "print(\"\\nOutliers detected using IQR method:\")\n",
    "print(outliers_iqr)"
   ]
  },
  {
   "cell_type": "code",
   "execution_count": 24,
   "id": "68276cce-0700-47c7-8a48-16a611e8c380",
   "metadata": {},
   "outputs": [
    {
     "name": "stdout",
     "output_type": "stream",
     "text": [
      "\n",
      "DataFrame after removing outliers using IQR method:\n",
      "      Soil_Type    N   P   K    pH  rainfall  temperature  Area_in_hectares  \\\n",
      "0        kharif  120  40  20  5.46    654.34    29.266667            7300.0   \n",
      "1        kharif   20  60  20  6.18    654.34    29.266667            3300.0   \n",
      "2        kharif   80  40  40  5.42    654.34    29.266667           10100.0   \n",
      "3        kharif   80  40  20  5.62    654.34    29.266667            2800.0   \n",
      "4        kharif   20  40  20  5.68    654.34    29.266667            1300.0   \n",
      "...         ...  ...  ..  ..   ...       ...          ...               ...   \n",
      "99844      rabi   60  30  30  6.70    152.54    22.280000            2013.0   \n",
      "99845    summer   80  40  20  5.68    182.50    29.200000             258.0   \n",
      "99846    summer   80  40  40  5.64    182.50    29.200000             105.0   \n",
      "99847      rabi   80  40  40  5.42    152.54    22.280000          152676.0   \n",
      "99848      rabi   30  15  30  6.54    152.54    22.280000             244.0   \n",
      "\n",
      "       Production_in_tons  Yield_ton_per_hec  \n",
      "0                  9400.0           1.287671  \n",
      "1                  1000.0           0.303030  \n",
      "2                 10200.0           1.009901  \n",
      "3                  4900.0           1.750000  \n",
      "4                   500.0           0.384615  \n",
      "...                   ...                ...  \n",
      "99844              5152.0           2.559364  \n",
      "99845               391.0           1.515504  \n",
      "99846               281.0           2.676190  \n",
      "99847            261435.0           1.712352  \n",
      "99848                95.0           0.389344  \n",
      "\n",
      "[92235 rows x 10 columns]\n"
     ]
    },
    {
     "name": "stderr",
     "output_type": "stream",
     "text": [
      "C:\\Users\\HARINY\\AppData\\Local\\Temp\\ipykernel_26552\\904078318.py:1: UserWarning: Boolean Series key will be reindexed to match DataFrame index.\n",
      "  df3 = df2[(df['pH'] >= lower_bound) & (df['pH'] <= upper_bound)]\n"
     ]
    }
   ],
   "source": [
    "df3 = df2[(df['pH'] >= lower_bound) & (df['pH'] <= upper_bound)]\n",
    "print(\"\\nDataFrame after removing outliers using IQR method:\")\n",
    "print(df3)"
   ]
  },
  {
   "cell_type": "code",
   "execution_count": 30,
   "id": "396f95ff-0b38-4f79-bfc2-9602f107ae8b",
   "metadata": {},
   "outputs": [],
   "source": [
    "df3.to_csv(\"cr_data.csv\")"
   ]
  },
  {
   "cell_type": "code",
   "execution_count": 31,
   "id": "2cd3d8c9-9fcf-44ab-ab8d-ebe16344f554",
   "metadata": {},
   "outputs": [
    {
     "data": {
      "text/plain": [
       "<Axes: ylabel='pH'>"
      ]
     },
     "execution_count": 31,
     "metadata": {},
     "output_type": "execute_result"
    },
    {
     "data": {
      "image/png": "[encoded data removed]",
      "text/plain": [
       "<Figure size 640x480 with 1 Axes>"
      ]
     },
     "metadata": {},
     "output_type": "display_data"
    }
   ],
   "source": [
    "sns.boxplot(df3[\"pH\"])"
   ]
  },
  {
   "cell_type": "code",
   "execution_count": 32,
   "id": "ce515f35-0865-40a5-9b7d-ae044bf2f394",
   "metadata": {},
   "outputs": [
    {
     "data": {
      "text/plain": [
       "<Axes: ylabel='rainfall'>"
      ]
     },
     "execution_count": 32,
     "metadata": {},
     "output_type": "execute_result"
    },
    {
     "data": {
      "image/png": "[encoded data removed]",
      "text/plain": [
       "<Figure size 640x480 with 1 Axes>"
      ]
     },
     "metadata": {},
     "output_type": "display_data"
    }
   ],
   "source": [
    "sns.boxplot(df3[\"rainfall\"])"
   ]
  },
  {
   "cell_type": "code",
   "execution_count": 33,
   "id": "ce9d138e-f35b-4282-b88a-75c0e8b17982",
   "metadata": {},
   "outputs": [
    {
     "name": "stdout",
     "output_type": "stream",
     "text": [
      "\n",
      "Outliers detected using IQR method:\n",
      "        Soil_Type    N   P    K    pH  rainfall  temperature  \\\n",
      "1239   whole year   50  40   20  5.48   3041.40    28.657273   \n",
      "1240       kharif   80  40   40  5.40   2879.86    27.316667   \n",
      "1242   whole year   50  40   20  5.68   3041.40    28.657273   \n",
      "1825   whole year  100  40  140  6.06   2817.86    27.909091   \n",
      "1826   whole year  100  60   50  5.08   2817.86    27.909091   \n",
      "...           ...  ...  ..  ...   ...       ...          ...   \n",
      "95907  whole year  100  75   50  6.32   2817.86    27.909091   \n",
      "95908  whole year  100  60   50  4.92   2817.86    27.909091   \n",
      "95909  whole year   70  40   60  5.84   2817.86    27.909091   \n",
      "95910  whole year   50  50   50  5.38   2817.86    27.909091   \n",
      "95911  whole year   25  60  100  5.02   2817.86    27.909091   \n",
      "\n",
      "       Area_in_hectares  Production_in_tons  Yield_ton_per_hec  \n",
      "1239            1675.00             1572.00           0.938507  \n",
      "1240           15169.00            40864.00           2.693915  \n",
      "1242            1125.00              904.00           0.803556  \n",
      "1825            2253.00             1518.00           0.673768  \n",
      "1826            2235.00              248.00           0.110962  \n",
      "...                 ...                 ...                ...  \n",
      "95907          10466.50            87967.67           8.404688  \n",
      "95908          16188.55             2431.28           0.150185  \n",
      "95909            623.42              502.01           0.805252  \n",
      "95910           2265.10           118922.98          52.502309  \n",
      "95911            160.81              516.14           3.209626  \n",
      "\n",
      "[1652 rows x 10 columns]\n"
     ]
    },
    {
     "name": "stderr",
     "output_type": "stream",
     "text": [
      "C:\\Users\\HARINY\\AppData\\Local\\Temp\\ipykernel_26552\\3527967078.py:6: UserWarning: Boolean Series key will be reindexed to match DataFrame index.\n",
      "  outliers_iqr = df3[(df['rainfall'] < lower_bound) | (df['rainfall'] > upper_bound)]\n"
     ]
    }
   ],
   "source": [
    "Q1 = df3['rainfall'].quantile(0.25)\n",
    "Q3 = df3['rainfall'].quantile(0.75)\n",
    "IQR = Q3 - Q1\n",
    "lower_bound = Q1 - 1.5 * IQR\n",
    "upper_bound = Q3 + 1.5 * IQR\n",
    "outliers_iqr = df3[(df['rainfall'] < lower_bound) | (df['rainfall'] > upper_bound)]\n",
    "print(\"\\nOutliers detected using IQR method:\")\n",
    "print(outliers_iqr)"
   ]
  },
  {
   "cell_type": "code",
   "execution_count": 34,
   "id": "92e0dbab-0531-4bb3-aeb1-ab6a786ee42b",
   "metadata": {},
   "outputs": [
    {
     "name": "stdout",
     "output_type": "stream",
     "text": [
      "\n",
      "DataFrame after removing outliers using IQR method:\n",
      "      Soil_Type    N   P   K    pH  rainfall  temperature  Area_in_hectares  \\\n",
      "0        kharif  120  40  20  5.46    654.34    29.266667            7300.0   \n",
      "1        kharif   20  60  20  6.18    654.34    29.266667            3300.0   \n",
      "2        kharif   80  40  40  5.42    654.34    29.266667           10100.0   \n",
      "3        kharif   80  40  20  5.62    654.34    29.266667            2800.0   \n",
      "4        kharif   20  40  20  5.68    654.34    29.266667            1300.0   \n",
      "...         ...  ...  ..  ..   ...       ...          ...               ...   \n",
      "99844      rabi   60  30  30  6.70    152.54    22.280000            2013.0   \n",
      "99845    summer   80  40  20  5.68    182.50    29.200000             258.0   \n",
      "99846    summer   80  40  40  5.64    182.50    29.200000             105.0   \n",
      "99847      rabi   80  40  40  5.42    152.54    22.280000          152676.0   \n",
      "99848      rabi   30  15  30  6.54    152.54    22.280000             244.0   \n",
      "\n",
      "       Production_in_tons  Yield_ton_per_hec  \n",
      "0                  9400.0           1.287671  \n",
      "1                  1000.0           0.303030  \n",
      "2                 10200.0           1.009901  \n",
      "3                  4900.0           1.750000  \n",
      "4                   500.0           0.384615  \n",
      "...                   ...                ...  \n",
      "99844              5152.0           2.559364  \n",
      "99845               391.0           1.515504  \n",
      "99846               281.0           2.676190  \n",
      "99847            261435.0           1.712352  \n",
      "99848                95.0           0.389344  \n",
      "\n",
      "[90583 rows x 10 columns]\n"
     ]
    },
    {
     "name": "stderr",
     "output_type": "stream",
     "text": [
      "C:\\Users\\HARINY\\AppData\\Local\\Temp\\ipykernel_26552\\2564912834.py:1: UserWarning: Boolean Series key will be reindexed to match DataFrame index.\n",
      "  df4 = df3[(df['rainfall'] >= lower_bound) & (df['rainfall'] <= upper_bound)]\n"
     ]
    }
   ],
   "source": [
    "df4 = df3[(df['rainfall'] >= lower_bound) & (df['rainfall'] <= upper_bound)]\n",
    "print(\"\\nDataFrame after removing outliers using IQR method:\")\n",
    "print(df4)"
   ]
  },
  {
   "cell_type": "code",
   "execution_count": 35,
   "id": "96083908-b42e-4649-907f-95d2213fa00a",
   "metadata": {},
   "outputs": [
    {
     "data": {
      "text/plain": [
       "<Axes: ylabel='rainfall'>"
      ]
     },
     "execution_count": 35,
     "metadata": {},
     "output_type": "execute_result"
    },
    {
     "data": {
      "image/png": "[encoded data removed]",
      "text/plain": [
       "<Figure size 640x480 with 1 Axes>"
      ]
     },
     "metadata": {},
     "output_type": "display_data"
    }
   ],
   "source": [
    "sns.boxplot(df4[\"rainfall\"])"
   ]
  },
  {
   "cell_type": "code",
   "execution_count": 36,
   "id": "60bc1aca-d68c-4618-a2ee-dac62b59b1f7",
   "metadata": {},
   "outputs": [],
   "source": [
    "df4.to_csv(\"cr_data.csv\")"
   ]
  },
  {
   "cell_type": "code",
   "execution_count": 39,
   "id": "c3349030-0cde-4527-bf9d-6f7ca28bfdb1",
   "metadata": {},
   "outputs": [
    {
     "data": {
      "text/plain": [
       "Index(['Soil_Type', 'N', 'P', 'K', 'pH', 'rainfall', 'temperature',\n",
       "       'Area_in_hectares', 'Production_in_tons', 'Yield_ton_per_hec'],\n",
       "      dtype='object')"
      ]
     },
     "execution_count": 39,
     "metadata": {},
     "output_type": "execute_result"
    }
   ],
   "source": [
    "df4.columns"
   ]
  },
  {
   "cell_type": "code",
   "execution_count": 45,
   "id": "b505a234-9106-49f1-b0f5-ff94e5e7a0a0",
   "metadata": {},
   "outputs": [
    {
     "data": {
      "text/plain": [
       "Index(['Soil_Type', 'N', 'P', 'K', 'pH', 'rainfall', 'temperature',\n",
       "       'Area_in_hectares', 'Production_in_tons', 'Yield_ton_per_hec'],\n",
       "      dtype='object')"
      ]
     },
     "execution_count": 45,
     "metadata": {},
     "output_type": "execute_result"
    }
   ],
   "source": [
    "df4.columns"
   ]
  },
  {
   "cell_type": "markdown",
   "id": "380f3db6-9bf5-49c6-9c88-caa5db9658f6",
   "metadata": {},
   "source": [
    "# to check duplicates"
   ]
  },
  {
   "cell_type": "code",
   "execution_count": 46,
   "id": "4e1bd16b-91ec-4993-bdaf-b5c31cfca4b5",
   "metadata": {},
   "outputs": [
    {
     "data": {
      "text/plain": [
       "1"
      ]
     },
     "execution_count": 46,
     "metadata": {},
     "output_type": "execute_result"
    }
   ],
   "source": [
    "#to check duplicates\n",
    "df4.duplicated().sum()"
   ]
  },
  {
   "cell_type": "code",
   "execution_count": 47,
   "id": "cad119cb-c8a7-4bfe-a54e-ea8e248ceaec",
   "metadata": {},
   "outputs": [],
   "source": [
    "df5=df4.drop_duplicates()"
   ]
  },
  {
   "cell_type": "code",
   "execution_count": 48,
   "id": "020badb5-8180-4b68-9f68-4ac30126fba9",
   "metadata": {},
   "outputs": [
    {
     "data": {
      "text/plain": [
       "0"
      ]
     },
     "execution_count": 48,
     "metadata": {},
     "output_type": "execute_result"
    }
   ],
   "source": [
    "df5.duplicated().sum()"
   ]
  },
  {
   "cell_type": "code",
   "execution_count": 49,
   "id": "67393016-4c58-4f17-b00f-d968a382990c",
   "metadata": {},
   "outputs": [],
   "source": [
    "df5.to_csv(\"cr_data.csv\")"
   ]
  },
  {
   "cell_type": "markdown",
   "id": "ead57fa0-ae40-47de-b585-27e862a6b264",
   "metadata": {},
   "source": [
    "# label encoder(string to numeric value)"
   ]
  },
  {
   "cell_type": "code",
   "execution_count": 50,
   "id": "b7e346a8-a5f5-45fd-9af4-460420920736",
   "metadata": {},
   "outputs": [
    {
     "data": {
      "text/plain": [
       "Soil_Type              object\n",
       "N                       int64\n",
       "P                       int64\n",
       "K                       int64\n",
       "pH                    float64\n",
       "rainfall              float64\n",
       "temperature           float64\n",
       "Area_in_hectares      float64\n",
       "Production_in_tons    float64\n",
       "Yield_ton_per_hec     float64\n",
       "dtype: object"
      ]
     },
     "execution_count": 50,
     "metadata": {},
     "output_type": "execute_result"
    }
   ],
   "source": [
    "#label encoder(string to numeric value)\n",
    "df5.dtypes"
   ]
  },
  {
   "cell_type": "code",
   "execution_count": 55,
   "id": "1ac3133e-c209-47a9-8dfb-07d65a87b91b",
   "metadata": {},
   "outputs": [
    {
     "data": {
      "text/html": [
       "<div>\n",
       "<style scoped>\n",
       "    .dataframe tbody tr th:only-of-type {\n",
       "        vertical-align: middle;\n",
       "    }\n",
       "\n",
       "    .dataframe tbody tr th {\n",
       "        vertical-align: top;\n",
       "    }\n",
       "\n",
       "    .dataframe thead th {\n",
       "        text-align: right;\n",
       "    }\n",
       "</style>\n",
       "<table border=\"1\" class=\"dataframe\">\n",
       "  <thead>\n",
       "    <tr style=\"text-align: right;\">\n",
       "      <th></th>\n",
       "      <th>Unnamed: 0</th>\n",
       "      <th>Soil_Type</th>\n",
       "      <th>N</th>\n",
       "      <th>P</th>\n",
       "      <th>K</th>\n",
       "      <th>pH</th>\n",
       "      <th>rainfall</th>\n",
       "      <th>temperature</th>\n",
       "      <th>Area_in_hectares</th>\n",
       "      <th>Production_in_tons</th>\n",
       "      <th>Yield_ton_per_hec</th>\n",
       "    </tr>\n",
       "  </thead>\n",
       "  <tbody>\n",
       "    <tr>\n",
       "      <th>0</th>\n",
       "      <td>0</td>\n",
       "      <td>0</td>\n",
       "      <td>120</td>\n",
       "      <td>40</td>\n",
       "      <td>20</td>\n",
       "      <td>5.46</td>\n",
       "      <td>654.34</td>\n",
       "      <td>29.266667</td>\n",
       "      <td>7300.0</td>\n",
       "      <td>9400.0</td>\n",
       "      <td>1.287671</td>\n",
       "    </tr>\n",
       "    <tr>\n",
       "      <th>1</th>\n",
       "      <td>1</td>\n",
       "      <td>0</td>\n",
       "      <td>20</td>\n",
       "      <td>60</td>\n",
       "      <td>20</td>\n",
       "      <td>6.18</td>\n",
       "      <td>654.34</td>\n",
       "      <td>29.266667</td>\n",
       "      <td>3300.0</td>\n",
       "      <td>1000.0</td>\n",
       "      <td>0.303030</td>\n",
       "    </tr>\n",
       "    <tr>\n",
       "      <th>2</th>\n",
       "      <td>2</td>\n",
       "      <td>0</td>\n",
       "      <td>80</td>\n",
       "      <td>40</td>\n",
       "      <td>40</td>\n",
       "      <td>5.42</td>\n",
       "      <td>654.34</td>\n",
       "      <td>29.266667</td>\n",
       "      <td>10100.0</td>\n",
       "      <td>10200.0</td>\n",
       "      <td>1.009901</td>\n",
       "    </tr>\n",
       "    <tr>\n",
       "      <th>3</th>\n",
       "      <td>3</td>\n",
       "      <td>0</td>\n",
       "      <td>80</td>\n",
       "      <td>40</td>\n",
       "      <td>20</td>\n",
       "      <td>5.62</td>\n",
       "      <td>654.34</td>\n",
       "      <td>29.266667</td>\n",
       "      <td>2800.0</td>\n",
       "      <td>4900.0</td>\n",
       "      <td>1.750000</td>\n",
       "    </tr>\n",
       "    <tr>\n",
       "      <th>4</th>\n",
       "      <td>4</td>\n",
       "      <td>0</td>\n",
       "      <td>20</td>\n",
       "      <td>40</td>\n",
       "      <td>20</td>\n",
       "      <td>5.68</td>\n",
       "      <td>654.34</td>\n",
       "      <td>29.266667</td>\n",
       "      <td>1300.0</td>\n",
       "      <td>500.0</td>\n",
       "      <td>0.384615</td>\n",
       "    </tr>\n",
       "    <tr>\n",
       "      <th>...</th>\n",
       "      <td>...</td>\n",
       "      <td>...</td>\n",
       "      <td>...</td>\n",
       "      <td>...</td>\n",
       "      <td>...</td>\n",
       "      <td>...</td>\n",
       "      <td>...</td>\n",
       "      <td>...</td>\n",
       "      <td>...</td>\n",
       "      <td>...</td>\n",
       "      <td>...</td>\n",
       "    </tr>\n",
       "    <tr>\n",
       "      <th>90577</th>\n",
       "      <td>99844</td>\n",
       "      <td>1</td>\n",
       "      <td>60</td>\n",
       "      <td>30</td>\n",
       "      <td>30</td>\n",
       "      <td>6.70</td>\n",
       "      <td>152.54</td>\n",
       "      <td>22.280000</td>\n",
       "      <td>2013.0</td>\n",
       "      <td>5152.0</td>\n",
       "      <td>2.559364</td>\n",
       "    </tr>\n",
       "    <tr>\n",
       "      <th>90578</th>\n",
       "      <td>99845</td>\n",
       "      <td>2</td>\n",
       "      <td>80</td>\n",
       "      <td>40</td>\n",
       "      <td>20</td>\n",
       "      <td>5.68</td>\n",
       "      <td>182.50</td>\n",
       "      <td>29.200000</td>\n",
       "      <td>258.0</td>\n",
       "      <td>391.0</td>\n",
       "      <td>1.515504</td>\n",
       "    </tr>\n",
       "    <tr>\n",
       "      <th>90579</th>\n",
       "      <td>99846</td>\n",
       "      <td>2</td>\n",
       "      <td>80</td>\n",
       "      <td>40</td>\n",
       "      <td>40</td>\n",
       "      <td>5.64</td>\n",
       "      <td>182.50</td>\n",
       "      <td>29.200000</td>\n",
       "      <td>105.0</td>\n",
       "      <td>281.0</td>\n",
       "      <td>2.676190</td>\n",
       "    </tr>\n",
       "    <tr>\n",
       "      <th>90580</th>\n",
       "      <td>99847</td>\n",
       "      <td>1</td>\n",
       "      <td>80</td>\n",
       "      <td>40</td>\n",
       "      <td>40</td>\n",
       "      <td>5.42</td>\n",
       "      <td>152.54</td>\n",
       "      <td>22.280000</td>\n",
       "      <td>152676.0</td>\n",
       "      <td>261435.0</td>\n",
       "      <td>1.712352</td>\n",
       "    </tr>\n",
       "    <tr>\n",
       "      <th>90581</th>\n",
       "      <td>99848</td>\n",
       "      <td>1</td>\n",
       "      <td>30</td>\n",
       "      <td>15</td>\n",
       "      <td>30</td>\n",
       "      <td>6.54</td>\n",
       "      <td>152.54</td>\n",
       "      <td>22.280000</td>\n",
       "      <td>244.0</td>\n",
       "      <td>95.0</td>\n",
       "      <td>0.389344</td>\n",
       "    </tr>\n",
       "  </tbody>\n",
       "</table>\n",
       "<p>90582 rows × 11 columns</p>\n",
       "</div>"
      ],
      "text/plain": [
       "       Unnamed: 0  Soil_Type    N   P   K    pH  rainfall  temperature  \\\n",
       "0               0          0  120  40  20  5.46    654.34    29.266667   \n",
       "1               1          0   20  60  20  6.18    654.34    29.266667   \n",
       "2               2          0   80  40  40  5.42    654.34    29.266667   \n",
       "3               3          0   80  40  20  5.62    654.34    29.266667   \n",
       "4               4          0   20  40  20  5.68    654.34    29.266667   \n",
       "...           ...        ...  ...  ..  ..   ...       ...          ...   \n",
       "90577       99844          1   60  30  30  6.70    152.54    22.280000   \n",
       "90578       99845          2   80  40  20  5.68    182.50    29.200000   \n",
       "90579       99846          2   80  40  40  5.64    182.50    29.200000   \n",
       "90580       99847          1   80  40  40  5.42    152.54    22.280000   \n",
       "90581       99848          1   30  15  30  6.54    152.54    22.280000   \n",
       "\n",
       "       Area_in_hectares  Production_in_tons  Yield_ton_per_hec  \n",
       "0                7300.0              9400.0           1.287671  \n",
       "1                3300.0              1000.0           0.303030  \n",
       "2               10100.0             10200.0           1.009901  \n",
       "3                2800.0              4900.0           1.750000  \n",
       "4                1300.0               500.0           0.384615  \n",
       "...                 ...                 ...                ...  \n",
       "90577            2013.0              5152.0           2.559364  \n",
       "90578             258.0               391.0           1.515504  \n",
       "90579             105.0               281.0           2.676190  \n",
       "90580          152676.0            261435.0           1.712352  \n",
       "90581             244.0                95.0           0.389344  \n",
       "\n",
       "[90582 rows x 11 columns]"
      ]
     },
     "execution_count": 55,
     "metadata": {},
     "output_type": "execute_result"
    }
   ],
   "source": [
    "df=pd.read_csv(\"cr_data.csv\")\n",
    "from sklearn.preprocessing import LabelEncoder\n",
    "label_encoder=LabelEncoder()\n",
    "df[\"Soil_Type\"]=label_encoder.fit_transform(df[\"Soil_Type\"])\n",
    "df"
   ]
  },
  {
   "cell_type": "code",
   "execution_count": 56,
   "id": "d6df6f72-2fc7-4388-b089-aa84ce1bf646",
   "metadata": {},
   "outputs": [
    {
     "data": {
      "text/plain": [
       "Unnamed: 0              int64\n",
       "Soil_Type               int32\n",
       "N                       int64\n",
       "P                       int64\n",
       "K                       int64\n",
       "pH                    float64\n",
       "rainfall              float64\n",
       "temperature           float64\n",
       "Area_in_hectares      float64\n",
       "Production_in_tons    float64\n",
       "Yield_ton_per_hec     float64\n",
       "dtype: object"
      ]
     },
     "execution_count": 56,
     "metadata": {},
     "output_type": "execute_result"
    }
   ],
   "source": [
    "df.dtypes"
   ]
  },
  {
   "cell_type": "code",
   "execution_count": 58,
   "id": "27e5bce6-046d-495b-82f5-eb81383b4ff1",
   "metadata": {},
   "outputs": [
    {
     "data": {
      "text/html": [
       "<div>\n",
       "<style scoped>\n",
       "    .dataframe tbody tr th:only-of-type {\n",
       "        vertical-align: middle;\n",
       "    }\n",
       "\n",
       "    .dataframe tbody tr th {\n",
       "        vertical-align: top;\n",
       "    }\n",
       "\n",
       "    .dataframe thead th {\n",
       "        text-align: right;\n",
       "    }\n",
       "</style>\n",
       "<table border=\"1\" class=\"dataframe\">\n",
       "  <thead>\n",
       "    <tr style=\"text-align: right;\">\n",
       "      <th></th>\n",
       "      <th>Soil_Type</th>\n",
       "      <th>N</th>\n",
       "      <th>P</th>\n",
       "      <th>K</th>\n",
       "      <th>pH</th>\n",
       "      <th>rainfall</th>\n",
       "      <th>temperature</th>\n",
       "      <th>Area_in_hectares</th>\n",
       "      <th>Production_in_tons</th>\n",
       "      <th>Yield_ton_per_hec</th>\n",
       "    </tr>\n",
       "  </thead>\n",
       "  <tbody>\n",
       "    <tr>\n",
       "      <th>0</th>\n",
       "      <td>0</td>\n",
       "      <td>120</td>\n",
       "      <td>40</td>\n",
       "      <td>20</td>\n",
       "      <td>5.46</td>\n",
       "      <td>654.34</td>\n",
       "      <td>29.266667</td>\n",
       "      <td>7300.0</td>\n",
       "      <td>9400.0</td>\n",
       "      <td>1.287671</td>\n",
       "    </tr>\n",
       "    <tr>\n",
       "      <th>1</th>\n",
       "      <td>0</td>\n",
       "      <td>20</td>\n",
       "      <td>60</td>\n",
       "      <td>20</td>\n",
       "      <td>6.18</td>\n",
       "      <td>654.34</td>\n",
       "      <td>29.266667</td>\n",
       "      <td>3300.0</td>\n",
       "      <td>1000.0</td>\n",
       "      <td>0.303030</td>\n",
       "    </tr>\n",
       "    <tr>\n",
       "      <th>2</th>\n",
       "      <td>0</td>\n",
       "      <td>80</td>\n",
       "      <td>40</td>\n",
       "      <td>40</td>\n",
       "      <td>5.42</td>\n",
       "      <td>654.34</td>\n",
       "      <td>29.266667</td>\n",
       "      <td>10100.0</td>\n",
       "      <td>10200.0</td>\n",
       "      <td>1.009901</td>\n",
       "    </tr>\n",
       "    <tr>\n",
       "      <th>3</th>\n",
       "      <td>0</td>\n",
       "      <td>80</td>\n",
       "      <td>40</td>\n",
       "      <td>20</td>\n",
       "      <td>5.62</td>\n",
       "      <td>654.34</td>\n",
       "      <td>29.266667</td>\n",
       "      <td>2800.0</td>\n",
       "      <td>4900.0</td>\n",
       "      <td>1.750000</td>\n",
       "    </tr>\n",
       "    <tr>\n",
       "      <th>4</th>\n",
       "      <td>0</td>\n",
       "      <td>20</td>\n",
       "      <td>40</td>\n",
       "      <td>20</td>\n",
       "      <td>5.68</td>\n",
       "      <td>654.34</td>\n",
       "      <td>29.266667</td>\n",
       "      <td>1300.0</td>\n",
       "      <td>500.0</td>\n",
       "      <td>0.384615</td>\n",
       "    </tr>\n",
       "    <tr>\n",
       "      <th>...</th>\n",
       "      <td>...</td>\n",
       "      <td>...</td>\n",
       "      <td>...</td>\n",
       "      <td>...</td>\n",
       "      <td>...</td>\n",
       "      <td>...</td>\n",
       "      <td>...</td>\n",
       "      <td>...</td>\n",
       "      <td>...</td>\n",
       "      <td>...</td>\n",
       "    </tr>\n",
       "    <tr>\n",
       "      <th>90577</th>\n",
       "      <td>1</td>\n",
       "      <td>60</td>\n",
       "      <td>30</td>\n",
       "      <td>30</td>\n",
       "      <td>6.70</td>\n",
       "      <td>152.54</td>\n",
       "      <td>22.280000</td>\n",
       "      <td>2013.0</td>\n",
       "      <td>5152.0</td>\n",
       "      <td>2.559364</td>\n",
       "    </tr>\n",
       "    <tr>\n",
       "      <th>90578</th>\n",
       "      <td>2</td>\n",
       "      <td>80</td>\n",
       "      <td>40</td>\n",
       "      <td>20</td>\n",
       "      <td>5.68</td>\n",
       "      <td>182.50</td>\n",
       "      <td>29.200000</td>\n",
       "      <td>258.0</td>\n",
       "      <td>391.0</td>\n",
       "      <td>1.515504</td>\n",
       "    </tr>\n",
       "    <tr>\n",
       "      <th>90579</th>\n",
       "      <td>2</td>\n",
       "      <td>80</td>\n",
       "      <td>40</td>\n",
       "      <td>40</td>\n",
       "      <td>5.64</td>\n",
       "      <td>182.50</td>\n",
       "      <td>29.200000</td>\n",
       "      <td>105.0</td>\n",
       "      <td>281.0</td>\n",
       "      <td>2.676190</td>\n",
       "    </tr>\n",
       "    <tr>\n",
       "      <th>90580</th>\n",
       "      <td>1</td>\n",
       "      <td>80</td>\n",
       "      <td>40</td>\n",
       "      <td>40</td>\n",
       "      <td>5.42</td>\n",
       "      <td>152.54</td>\n",
       "      <td>22.280000</td>\n",
       "      <td>152676.0</td>\n",
       "      <td>261435.0</td>\n",
       "      <td>1.712352</td>\n",
       "    </tr>\n",
       "    <tr>\n",
       "      <th>90581</th>\n",
       "      <td>1</td>\n",
       "      <td>30</td>\n",
       "      <td>15</td>\n",
       "      <td>30</td>\n",
       "      <td>6.54</td>\n",
       "      <td>152.54</td>\n",
       "      <td>22.280000</td>\n",
       "      <td>244.0</td>\n",
       "      <td>95.0</td>\n",
       "      <td>0.389344</td>\n",
       "    </tr>\n",
       "  </tbody>\n",
       "</table>\n",
       "<p>90582 rows × 10 columns</p>\n",
       "</div>"
      ],
      "text/plain": [
       "       Soil_Type    N   P   K    pH  rainfall  temperature  Area_in_hectares  \\\n",
       "0              0  120  40  20  5.46    654.34    29.266667            7300.0   \n",
       "1              0   20  60  20  6.18    654.34    29.266667            3300.0   \n",
       "2              0   80  40  40  5.42    654.34    29.266667           10100.0   \n",
       "3              0   80  40  20  5.62    654.34    29.266667            2800.0   \n",
       "4              0   20  40  20  5.68    654.34    29.266667            1300.0   \n",
       "...          ...  ...  ..  ..   ...       ...          ...               ...   \n",
       "90577          1   60  30  30  6.70    152.54    22.280000            2013.0   \n",
       "90578          2   80  40  20  5.68    182.50    29.200000             258.0   \n",
       "90579          2   80  40  40  5.64    182.50    29.200000             105.0   \n",
       "90580          1   80  40  40  5.42    152.54    22.280000          152676.0   \n",
       "90581          1   30  15  30  6.54    152.54    22.280000             244.0   \n",
       "\n",
       "       Production_in_tons  Yield_ton_per_hec  \n",
       "0                  9400.0           1.287671  \n",
       "1                  1000.0           0.303030  \n",
       "2                 10200.0           1.009901  \n",
       "3                  4900.0           1.750000  \n",
       "4                   500.0           0.384615  \n",
       "...                   ...                ...  \n",
       "90577              5152.0           2.559364  \n",
       "90578               391.0           1.515504  \n",
       "90579               281.0           2.676190  \n",
       "90580            261435.0           1.712352  \n",
       "90581                95.0           0.389344  \n",
       "\n",
       "[90582 rows x 10 columns]"
      ]
     },
     "execution_count": 58,
     "metadata": {},
     "output_type": "execute_result"
    }
   ],
   "source": [
    "#drop the unwanted column\n",
    "df.drop(\"Unnamed: 0\",axis=1,inplace=True)\n",
    "df"
   ]
  },
  {
   "cell_type": "code",
   "execution_count": 59,
   "id": "ed012ba9-d09e-4fc7-b09d-c561def7af57",
   "metadata": {},
   "outputs": [
    {
     "data": {
      "text/plain": [
       "Index(['Soil_Type', 'N', 'P', 'K', 'pH', 'rainfall', 'temperature',\n",
       "       'Area_in_hectares', 'Production_in_tons', 'Yield_ton_per_hec'],\n",
       "      dtype='object')"
      ]
     },
     "execution_count": 59,
     "metadata": {},
     "output_type": "execute_result"
    }
   ],
   "source": [
    "df.columns"
   ]
  },
  {
   "cell_type": "code",
   "execution_count": 60,
   "id": "65c73e2b-4033-403a-90da-365f5a11b630",
   "metadata": {},
   "outputs": [],
   "source": [
    "df.to_csv(\"crt_data.csv\")"
   ]
  },
  {
   "cell_type": "code",
   "execution_count": 61,
   "id": "c7b982dd-4cc1-49cd-b47b-888d18617c53",
   "metadata": {},
   "outputs": [
    {
     "data": {
      "text/plain": [
       "Index(['Soil_Type', 'N', 'P', 'K', 'pH', 'rainfall', 'temperature',\n",
       "       'Area_in_hectares', 'Production_in_tons', 'Yield_ton_per_hec'],\n",
       "      dtype='object')"
      ]
     },
     "execution_count": 61,
     "metadata": {},
     "output_type": "execute_result"
    }
   ],
   "source": [
    "df.columns"
   ]
  },
  {
   "cell_type": "code",
   "execution_count": 75,
   "id": "656b43e6-68a2-4ed4-88f9-bce8c763cb11",
   "metadata": {},
   "outputs": [
    {
     "data": {
      "text/plain": [
       "Index(['Soil_Type', 'N', 'P', 'K', 'pH', 'rainfall', 'temperature',\n",
       "       'Area_in_hectares', 'Production_in_tons', 'Yield_ton_per_hec'],\n",
       "      dtype='object')"
      ]
     },
     "execution_count": 75,
     "metadata": {},
     "output_type": "execute_result"
    }
   ],
   "source": [
    "df=pd.read_csv(\"crt_data.csv\")\n",
    "df.columns"
   ]
  },
  {
   "cell_type": "code",
   "execution_count": 76,
   "id": "bc6e4728-2c8c-4939-9d76-58bc37c0bc58",
   "metadata": {},
   "outputs": [
    {
     "data": {
      "text/html": [
       "<div>\n",
       "<style scoped>\n",
       "    .dataframe tbody tr th:only-of-type {\n",
       "        vertical-align: middle;\n",
       "    }\n",
       "\n",
       "    .dataframe tbody tr th {\n",
       "        vertical-align: top;\n",
       "    }\n",
       "\n",
       "    .dataframe thead th {\n",
       "        text-align: right;\n",
       "    }\n",
       "</style>\n",
       "<table border=\"1\" class=\"dataframe\">\n",
       "  <thead>\n",
       "    <tr style=\"text-align: right;\">\n",
       "      <th></th>\n",
       "      <th>Soil_Type</th>\n",
       "      <th>N</th>\n",
       "      <th>P</th>\n",
       "      <th>K</th>\n",
       "      <th>pH</th>\n",
       "      <th>rainfall</th>\n",
       "      <th>temperature</th>\n",
       "      <th>Area_in_hectares</th>\n",
       "      <th>Production_in_tons</th>\n",
       "      <th>Yield_ton_per_hec</th>\n",
       "    </tr>\n",
       "  </thead>\n",
       "  <tbody>\n",
       "    <tr>\n",
       "      <th>0</th>\n",
       "      <td>0</td>\n",
       "      <td>120</td>\n",
       "      <td>40</td>\n",
       "      <td>20</td>\n",
       "      <td>5.46</td>\n",
       "      <td>654.34</td>\n",
       "      <td>29.266667</td>\n",
       "      <td>7300.0</td>\n",
       "      <td>9400.0</td>\n",
       "      <td>1.287671</td>\n",
       "    </tr>\n",
       "    <tr>\n",
       "      <th>1</th>\n",
       "      <td>0</td>\n",
       "      <td>20</td>\n",
       "      <td>60</td>\n",
       "      <td>20</td>\n",
       "      <td>6.18</td>\n",
       "      <td>654.34</td>\n",
       "      <td>29.266667</td>\n",
       "      <td>3300.0</td>\n",
       "      <td>1000.0</td>\n",
       "      <td>0.303030</td>\n",
       "    </tr>\n",
       "    <tr>\n",
       "      <th>2</th>\n",
       "      <td>0</td>\n",
       "      <td>80</td>\n",
       "      <td>40</td>\n",
       "      <td>40</td>\n",
       "      <td>5.42</td>\n",
       "      <td>654.34</td>\n",
       "      <td>29.266667</td>\n",
       "      <td>10100.0</td>\n",
       "      <td>10200.0</td>\n",
       "      <td>1.009901</td>\n",
       "    </tr>\n",
       "    <tr>\n",
       "      <th>3</th>\n",
       "      <td>0</td>\n",
       "      <td>80</td>\n",
       "      <td>40</td>\n",
       "      <td>20</td>\n",
       "      <td>5.62</td>\n",
       "      <td>654.34</td>\n",
       "      <td>29.266667</td>\n",
       "      <td>2800.0</td>\n",
       "      <td>4900.0</td>\n",
       "      <td>1.750000</td>\n",
       "    </tr>\n",
       "    <tr>\n",
       "      <th>4</th>\n",
       "      <td>0</td>\n",
       "      <td>20</td>\n",
       "      <td>40</td>\n",
       "      <td>20</td>\n",
       "      <td>5.68</td>\n",
       "      <td>654.34</td>\n",
       "      <td>29.266667</td>\n",
       "      <td>1300.0</td>\n",
       "      <td>500.0</td>\n",
       "      <td>0.384615</td>\n",
       "    </tr>\n",
       "  </tbody>\n",
       "</table>\n",
       "</div>"
      ],
      "text/plain": [
       "   Soil_Type    N   P   K    pH  rainfall  temperature  Area_in_hectares  \\\n",
       "0          0  120  40  20  5.46    654.34    29.266667            7300.0   \n",
       "1          0   20  60  20  6.18    654.34    29.266667            3300.0   \n",
       "2          0   80  40  40  5.42    654.34    29.266667           10100.0   \n",
       "3          0   80  40  20  5.62    654.34    29.266667            2800.0   \n",
       "4          0   20  40  20  5.68    654.34    29.266667            1300.0   \n",
       "\n",
       "   Production_in_tons  Yield_ton_per_hec  \n",
       "0              9400.0           1.287671  \n",
       "1              1000.0           0.303030  \n",
       "2             10200.0           1.009901  \n",
       "3              4900.0           1.750000  \n",
       "4               500.0           0.384615  "
      ]
     },
     "execution_count": 76,
     "metadata": {},
     "output_type": "execute_result"
    }
   ],
   "source": [
    "df.head()"
   ]
  },
  {
   "cell_type": "code",
   "execution_count": 78,
   "id": "4e73e1ad-24f5-48e0-a0ef-2835ee0d27d3",
   "metadata": {},
   "outputs": [],
   "source": [
    "df1=df.drop(\"Yield_ton_per_hec\",axis=1)\n",
    "df1.to_csv(\"crt1.csv\")"
   ]
  },
  {
   "cell_type": "code",
   "execution_count": 79,
   "id": "ad09cd80-05f0-4ef2-af79-0f2a604c1c6b",
   "metadata": {},
   "outputs": [
    {
     "data": {
      "text/plain": [
       "Index(['Soil_Type', 'N', 'P', 'K', 'pH', 'rainfall', 'temperature',\n",
       "       'Area_in_hectares', 'Production_in_tons'],\n",
       "      dtype='object')"
      ]
     },
     "execution_count": 79,
     "metadata": {},
     "output_type": "execute_result"
    }
   ],
   "source": [
    "df1.columns"
   ]
  },
  {
   "cell_type": "code",
   "execution_count": 98,
   "id": "cd5d1b61-68c9-4357-a4de-ece37b25f046",
   "metadata": {},
   "outputs": [
    {
     "data": {
      "text/plain": [
       "Index(['Soil_Type', 'N', 'P', 'K', 'pH', 'rainfall', 'temperature',\n",
       "       'Area_in_hectares', 'Production_in_tons'],\n",
       "      dtype='object')"
      ]
     },
     "execution_count": 98,
     "metadata": {},
     "output_type": "execute_result"
    }
   ],
   "source": [
    "df1.columns"
   ]
  },
  {
   "cell_type": "code",
   "execution_count": 102,
   "id": "eef99928-053b-4567-84fd-6680b8c7c759",
   "metadata": {},
   "outputs": [
    {
     "data": {
      "text/html": [
       "<div>\n",
       "<style scoped>\n",
       "    .dataframe tbody tr th:only-of-type {\n",
       "        vertical-align: middle;\n",
       "    }\n",
       "\n",
       "    .dataframe tbody tr th {\n",
       "        vertical-align: top;\n",
       "    }\n",
       "\n",
       "    .dataframe thead th {\n",
       "        text-align: right;\n",
       "    }\n",
       "</style>\n",
       "<table border=\"1\" class=\"dataframe\">\n",
       "  <thead>\n",
       "    <tr style=\"text-align: right;\">\n",
       "      <th></th>\n",
       "      <th>N</th>\n",
       "      <th>P</th>\n",
       "      <th>K</th>\n",
       "      <th>pH</th>\n",
       "      <th>rainfall</th>\n",
       "      <th>temperature</th>\n",
       "      <th>Area_in_hectares</th>\n",
       "      <th>Production_in_tons</th>\n",
       "    </tr>\n",
       "  </thead>\n",
       "  <tbody>\n",
       "    <tr>\n",
       "      <th>0</th>\n",
       "      <td>120</td>\n",
       "      <td>40</td>\n",
       "      <td>20</td>\n",
       "      <td>5.46</td>\n",
       "      <td>654.34</td>\n",
       "      <td>29.266667</td>\n",
       "      <td>7300.0</td>\n",
       "      <td>9400.0</td>\n",
       "    </tr>\n",
       "    <tr>\n",
       "      <th>1</th>\n",
       "      <td>20</td>\n",
       "      <td>60</td>\n",
       "      <td>20</td>\n",
       "      <td>6.18</td>\n",
       "      <td>654.34</td>\n",
       "      <td>29.266667</td>\n",
       "      <td>3300.0</td>\n",
       "      <td>1000.0</td>\n",
       "    </tr>\n",
       "    <tr>\n",
       "      <th>2</th>\n",
       "      <td>80</td>\n",
       "      <td>40</td>\n",
       "      <td>40</td>\n",
       "      <td>5.42</td>\n",
       "      <td>654.34</td>\n",
       "      <td>29.266667</td>\n",
       "      <td>10100.0</td>\n",
       "      <td>10200.0</td>\n",
       "    </tr>\n",
       "    <tr>\n",
       "      <th>3</th>\n",
       "      <td>80</td>\n",
       "      <td>40</td>\n",
       "      <td>20</td>\n",
       "      <td>5.62</td>\n",
       "      <td>654.34</td>\n",
       "      <td>29.266667</td>\n",
       "      <td>2800.0</td>\n",
       "      <td>4900.0</td>\n",
       "    </tr>\n",
       "    <tr>\n",
       "      <th>4</th>\n",
       "      <td>20</td>\n",
       "      <td>40</td>\n",
       "      <td>20</td>\n",
       "      <td>5.68</td>\n",
       "      <td>654.34</td>\n",
       "      <td>29.266667</td>\n",
       "      <td>1300.0</td>\n",
       "      <td>500.0</td>\n",
       "    </tr>\n",
       "    <tr>\n",
       "      <th>...</th>\n",
       "      <td>...</td>\n",
       "      <td>...</td>\n",
       "      <td>...</td>\n",
       "      <td>...</td>\n",
       "      <td>...</td>\n",
       "      <td>...</td>\n",
       "      <td>...</td>\n",
       "      <td>...</td>\n",
       "    </tr>\n",
       "    <tr>\n",
       "      <th>90577</th>\n",
       "      <td>60</td>\n",
       "      <td>30</td>\n",
       "      <td>30</td>\n",
       "      <td>6.70</td>\n",
       "      <td>152.54</td>\n",
       "      <td>22.280000</td>\n",
       "      <td>2013.0</td>\n",
       "      <td>5152.0</td>\n",
       "    </tr>\n",
       "    <tr>\n",
       "      <th>90578</th>\n",
       "      <td>80</td>\n",
       "      <td>40</td>\n",
       "      <td>20</td>\n",
       "      <td>5.68</td>\n",
       "      <td>182.50</td>\n",
       "      <td>29.200000</td>\n",
       "      <td>258.0</td>\n",
       "      <td>391.0</td>\n",
       "    </tr>\n",
       "    <tr>\n",
       "      <th>90579</th>\n",
       "      <td>80</td>\n",
       "      <td>40</td>\n",
       "      <td>40</td>\n",
       "      <td>5.64</td>\n",
       "      <td>182.50</td>\n",
       "      <td>29.200000</td>\n",
       "      <td>105.0</td>\n",
       "      <td>281.0</td>\n",
       "    </tr>\n",
       "    <tr>\n",
       "      <th>90580</th>\n",
       "      <td>80</td>\n",
       "      <td>40</td>\n",
       "      <td>40</td>\n",
       "      <td>5.42</td>\n",
       "      <td>152.54</td>\n",
       "      <td>22.280000</td>\n",
       "      <td>152676.0</td>\n",
       "      <td>261435.0</td>\n",
       "    </tr>\n",
       "    <tr>\n",
       "      <th>90581</th>\n",
       "      <td>30</td>\n",
       "      <td>15</td>\n",
       "      <td>30</td>\n",
       "      <td>6.54</td>\n",
       "      <td>152.54</td>\n",
       "      <td>22.280000</td>\n",
       "      <td>244.0</td>\n",
       "      <td>95.0</td>\n",
       "    </tr>\n",
       "  </tbody>\n",
       "</table>\n",
       "<p>90582 rows × 8 columns</p>\n",
       "</div>"
      ],
      "text/plain": [
       "         N   P   K    pH  rainfall  temperature  Area_in_hectares  \\\n",
       "0      120  40  20  5.46    654.34    29.266667            7300.0   \n",
       "1       20  60  20  6.18    654.34    29.266667            3300.0   \n",
       "2       80  40  40  5.42    654.34    29.266667           10100.0   \n",
       "3       80  40  20  5.62    654.34    29.266667            2800.0   \n",
       "4       20  40  20  5.68    654.34    29.266667            1300.0   \n",
       "...    ...  ..  ..   ...       ...          ...               ...   \n",
       "90577   60  30  30  6.70    152.54    22.280000            2013.0   \n",
       "90578   80  40  20  5.68    182.50    29.200000             258.0   \n",
       "90579   80  40  40  5.64    182.50    29.200000             105.0   \n",
       "90580   80  40  40  5.42    152.54    22.280000          152676.0   \n",
       "90581   30  15  30  6.54    152.54    22.280000             244.0   \n",
       "\n",
       "       Production_in_tons  \n",
       "0                  9400.0  \n",
       "1                  1000.0  \n",
       "2                 10200.0  \n",
       "3                  4900.0  \n",
       "4                   500.0  \n",
       "...                   ...  \n",
       "90577              5152.0  \n",
       "90578               391.0  \n",
       "90579               281.0  \n",
       "90580            261435.0  \n",
       "90581                95.0  \n",
       "\n",
       "[90582 rows x 8 columns]"
      ]
     },
     "execution_count": 102,
     "metadata": {},
     "output_type": "execute_result"
    }
   ],
   "source": [
    "x=df1.drop(\"Soil_Type\",axis=1)\n",
    "y=df1[\"Soil_Type\"]\n",
    "x"
   ]
  },
  {
   "cell_type": "code",
   "execution_count": 103,
   "id": "14727f59-bd7c-419f-9f51-acbe0ff21cbc",
   "metadata": {},
   "outputs": [
    {
     "data": {
      "text/plain": [
       "0        0\n",
       "1        0\n",
       "2        0\n",
       "3        0\n",
       "4        0\n",
       "        ..\n",
       "90577    1\n",
       "90578    2\n",
       "90579    2\n",
       "90580    1\n",
       "90581    1\n",
       "Name: Soil_Type, Length: 90582, dtype: int64"
      ]
     },
     "execution_count": 103,
     "metadata": {},
     "output_type": "execute_result"
    }
   ],
   "source": [
    "y"
   ]
  },
  {
   "cell_type": "code",
   "execution_count": 117,
   "id": "dee554ce-36fa-489d-92ea-4a3755fdd29c",
   "metadata": {},
   "outputs": [
    {
     "data": {
      "image/png": "[encoded data removed]",
      "text/plain": [
       "<Figure size 650x390 with 2 Axes>"
      ]
     },
     "metadata": {},
     "output_type": "display_data"
    }
   ],
   "source": [
    "import seaborn as sns\n",
    "import matplotlib.pyplot as plt\n",
    "\n",
    "cor_mat=x_train.corr()\n",
    "plt.figure(figsize=(5,3),dpi=130)\n",
    "sns.heatmap(cor_mat,annot=True,fmt='.2f',annot_kws={\"size\":10})\n",
    "plt.show()"
   ]
  },
  {
   "cell_type": "markdown",
   "id": "3fb71e79-8596-485d-9db1-6fdf5958e4e0",
   "metadata": {},
   "source": [
    "# Train-Test Splitting"
   ]
  },
  {
   "cell_type": "code",
   "execution_count": 104,
   "id": "c946b0be-1172-43f8-be02-3e5906bc615b",
   "metadata": {},
   "outputs": [
    {
     "data": {
      "text/plain": [
       "((63407, 8), (27175, 8))"
      ]
     },
     "execution_count": 104,
     "metadata": {},
     "output_type": "execute_result"
    }
   ],
   "source": [
    "from sklearn.model_selection import train_test_split\n",
    "x_train,x_test,y_train,y_test = train_test_split(x,y,test_size=0.3,random_state=0)\n",
    "x_train.shape,x_test.shape"
   ]
  },
  {
   "cell_type": "code",
   "execution_count": 105,
   "id": "89686194-c773-4229-8369-c34fcebf668d",
   "metadata": {},
   "outputs": [
    {
     "data": {
      "text/html": [
       "<div>\n",
       "<style scoped>\n",
       "    .dataframe tbody tr th:only-of-type {\n",
       "        vertical-align: middle;\n",
       "    }\n",
       "\n",
       "    .dataframe tbody tr th {\n",
       "        vertical-align: top;\n",
       "    }\n",
       "\n",
       "    .dataframe thead th {\n",
       "        text-align: right;\n",
       "    }\n",
       "</style>\n",
       "<table border=\"1\" class=\"dataframe\">\n",
       "  <thead>\n",
       "    <tr style=\"text-align: right;\">\n",
       "      <th></th>\n",
       "      <th>N</th>\n",
       "      <th>P</th>\n",
       "      <th>K</th>\n",
       "      <th>pH</th>\n",
       "      <th>rainfall</th>\n",
       "      <th>temperature</th>\n",
       "      <th>Area_in_hectares</th>\n",
       "      <th>Production_in_tons</th>\n",
       "    </tr>\n",
       "  </thead>\n",
       "  <tbody>\n",
       "    <tr>\n",
       "      <th>62501</th>\n",
       "      <td>20</td>\n",
       "      <td>60</td>\n",
       "      <td>20</td>\n",
       "      <td>5.98</td>\n",
       "      <td>98.940</td>\n",
       "      <td>25.574000</td>\n",
       "      <td>1065.0</td>\n",
       "      <td>305.0</td>\n",
       "    </tr>\n",
       "    <tr>\n",
       "      <th>46674</th>\n",
       "      <td>80</td>\n",
       "      <td>40</td>\n",
       "      <td>40</td>\n",
       "      <td>5.48</td>\n",
       "      <td>1246.715</td>\n",
       "      <td>22.600000</td>\n",
       "      <td>78702.0</td>\n",
       "      <td>139814.1</td>\n",
       "    </tr>\n",
       "    <tr>\n",
       "      <th>20526</th>\n",
       "      <td>80</td>\n",
       "      <td>40</td>\n",
       "      <td>40</td>\n",
       "      <td>5.56</td>\n",
       "      <td>411.520</td>\n",
       "      <td>34.730000</td>\n",
       "      <td>238000.0</td>\n",
       "      <td>939000.0</td>\n",
       "    </tr>\n",
       "    <tr>\n",
       "      <th>60757</th>\n",
       "      <td>80</td>\n",
       "      <td>40</td>\n",
       "      <td>40</td>\n",
       "      <td>5.32</td>\n",
       "      <td>607.480</td>\n",
       "      <td>26.366667</td>\n",
       "      <td>187000.0</td>\n",
       "      <td>209200.0</td>\n",
       "    </tr>\n",
       "    <tr>\n",
       "      <th>85668</th>\n",
       "      <td>20</td>\n",
       "      <td>60</td>\n",
       "      <td>20</td>\n",
       "      <td>5.38</td>\n",
       "      <td>790.980</td>\n",
       "      <td>30.616667</td>\n",
       "      <td>8100.0</td>\n",
       "      <td>6700.0</td>\n",
       "    </tr>\n",
       "    <tr>\n",
       "      <th>...</th>\n",
       "      <td>...</td>\n",
       "      <td>...</td>\n",
       "      <td>...</td>\n",
       "      <td>...</td>\n",
       "      <td>...</td>\n",
       "      <td>...</td>\n",
       "      <td>...</td>\n",
       "      <td>...</td>\n",
       "    </tr>\n",
       "    <tr>\n",
       "      <th>21243</th>\n",
       "      <td>90</td>\n",
       "      <td>20</td>\n",
       "      <td>120</td>\n",
       "      <td>4.82</td>\n",
       "      <td>884.500</td>\n",
       "      <td>27.654545</td>\n",
       "      <td>77.0</td>\n",
       "      <td>933.0</td>\n",
       "    </tr>\n",
       "    <tr>\n",
       "      <th>45891</th>\n",
       "      <td>80</td>\n",
       "      <td>40</td>\n",
       "      <td>40</td>\n",
       "      <td>5.38</td>\n",
       "      <td>664.940</td>\n",
       "      <td>22.033333</td>\n",
       "      <td>4742.0</td>\n",
       "      <td>10401.0</td>\n",
       "    </tr>\n",
       "    <tr>\n",
       "      <th>42613</th>\n",
       "      <td>30</td>\n",
       "      <td>15</td>\n",
       "      <td>30</td>\n",
       "      <td>6.60</td>\n",
       "      <td>297.660</td>\n",
       "      <td>29.566667</td>\n",
       "      <td>3661.0</td>\n",
       "      <td>981.0</td>\n",
       "    </tr>\n",
       "    <tr>\n",
       "      <th>43567</th>\n",
       "      <td>20</td>\n",
       "      <td>40</td>\n",
       "      <td>20</td>\n",
       "      <td>5.54</td>\n",
       "      <td>34.810</td>\n",
       "      <td>34.666667</td>\n",
       "      <td>18.0</td>\n",
       "      <td>10.0</td>\n",
       "    </tr>\n",
       "    <tr>\n",
       "      <th>68268</th>\n",
       "      <td>80</td>\n",
       "      <td>40</td>\n",
       "      <td>40</td>\n",
       "      <td>5.64</td>\n",
       "      <td>167.380</td>\n",
       "      <td>23.560000</td>\n",
       "      <td>86000.0</td>\n",
       "      <td>178000.0</td>\n",
       "    </tr>\n",
       "  </tbody>\n",
       "</table>\n",
       "<p>63407 rows × 8 columns</p>\n",
       "</div>"
      ],
      "text/plain": [
       "        N   P    K    pH  rainfall  temperature  Area_in_hectares  \\\n",
       "62501  20  60   20  5.98    98.940    25.574000            1065.0   \n",
       "46674  80  40   40  5.48  1246.715    22.600000           78702.0   \n",
       "20526  80  40   40  5.56   411.520    34.730000          238000.0   \n",
       "60757  80  40   40  5.32   607.480    26.366667          187000.0   \n",
       "85668  20  60   20  5.38   790.980    30.616667            8100.0   \n",
       "...    ..  ..  ...   ...       ...          ...               ...   \n",
       "21243  90  20  120  4.82   884.500    27.654545              77.0   \n",
       "45891  80  40   40  5.38   664.940    22.033333            4742.0   \n",
       "42613  30  15   30  6.60   297.660    29.566667            3661.0   \n",
       "43567  20  40   20  5.54    34.810    34.666667              18.0   \n",
       "68268  80  40   40  5.64   167.380    23.560000           86000.0   \n",
       "\n",
       "       Production_in_tons  \n",
       "62501               305.0  \n",
       "46674            139814.1  \n",
       "20526            939000.0  \n",
       "60757            209200.0  \n",
       "85668              6700.0  \n",
       "...                   ...  \n",
       "21243               933.0  \n",
       "45891             10401.0  \n",
       "42613               981.0  \n",
       "43567                10.0  \n",
       "68268            178000.0  \n",
       "\n",
       "[63407 rows x 8 columns]"
      ]
     },
     "execution_count": 105,
     "metadata": {},
     "output_type": "execute_result"
    }
   ],
   "source": [
    "x_train"
   ]
  },
  {
   "cell_type": "code",
   "execution_count": 106,
   "id": "c33bd100-9dcb-484a-a90a-9fec69c426b2",
   "metadata": {},
   "outputs": [
    {
     "data": {
      "text/html": [
       "<div>\n",
       "<style scoped>\n",
       "    .dataframe tbody tr th:only-of-type {\n",
       "        vertical-align: middle;\n",
       "    }\n",
       "\n",
       "    .dataframe tbody tr th {\n",
       "        vertical-align: top;\n",
       "    }\n",
       "\n",
       "    .dataframe thead th {\n",
       "        text-align: right;\n",
       "    }\n",
       "</style>\n",
       "<table border=\"1\" class=\"dataframe\">\n",
       "  <thead>\n",
       "    <tr style=\"text-align: right;\">\n",
       "      <th></th>\n",
       "      <th>N</th>\n",
       "      <th>P</th>\n",
       "      <th>K</th>\n",
       "      <th>pH</th>\n",
       "      <th>rainfall</th>\n",
       "      <th>temperature</th>\n",
       "      <th>Area_in_hectares</th>\n",
       "      <th>Production_in_tons</th>\n",
       "    </tr>\n",
       "  </thead>\n",
       "  <tbody>\n",
       "    <tr>\n",
       "      <th>count</th>\n",
       "      <td>63407.000000</td>\n",
       "      <td>63407.000000</td>\n",
       "      <td>63407.000000</td>\n",
       "      <td>63407.000000</td>\n",
       "      <td>63407.000000</td>\n",
       "      <td>63407.000000</td>\n",
       "      <td>63407.000000</td>\n",
       "      <td>6.340700e+04</td>\n",
       "    </tr>\n",
       "    <tr>\n",
       "      <th>mean</th>\n",
       "      <td>63.287176</td>\n",
       "      <td>40.450266</td>\n",
       "      <td>38.377703</td>\n",
       "      <td>5.676736</td>\n",
       "      <td>647.847776</td>\n",
       "      <td>27.079294</td>\n",
       "      <td>17375.294757</td>\n",
       "      <td>3.590214e+04</td>\n",
       "    </tr>\n",
       "    <tr>\n",
       "      <th>std</th>\n",
       "      <td>30.560859</td>\n",
       "      <td>14.483340</td>\n",
       "      <td>25.344408</td>\n",
       "      <td>0.474031</td>\n",
       "      <td>521.207414</td>\n",
       "      <td>4.341383</td>\n",
       "      <td>45098.798195</td>\n",
       "      <td>1.148309e+05</td>\n",
       "    </tr>\n",
       "    <tr>\n",
       "      <th>min</th>\n",
       "      <td>10.000000</td>\n",
       "      <td>10.000000</td>\n",
       "      <td>10.000000</td>\n",
       "      <td>4.820000</td>\n",
       "      <td>3.274569</td>\n",
       "      <td>14.600000</td>\n",
       "      <td>0.580000</td>\n",
       "      <td>0.000000e+00</td>\n",
       "    </tr>\n",
       "    <tr>\n",
       "      <th>25%</th>\n",
       "      <td>30.000000</td>\n",
       "      <td>40.000000</td>\n",
       "      <td>20.000000</td>\n",
       "      <td>5.400000</td>\n",
       "      <td>152.540000</td>\n",
       "      <td>23.106000</td>\n",
       "      <td>128.000000</td>\n",
       "      <td>1.440000e+02</td>\n",
       "    </tr>\n",
       "    <tr>\n",
       "      <th>50%</th>\n",
       "      <td>70.000000</td>\n",
       "      <td>40.000000</td>\n",
       "      <td>30.000000</td>\n",
       "      <td>5.560000</td>\n",
       "      <td>579.750000</td>\n",
       "      <td>27.333333</td>\n",
       "      <td>1026.000000</td>\n",
       "      <td>1.316000e+03</td>\n",
       "    </tr>\n",
       "    <tr>\n",
       "      <th>75%</th>\n",
       "      <td>80.000000</td>\n",
       "      <td>40.000000</td>\n",
       "      <td>40.000000</td>\n",
       "      <td>5.980000</td>\n",
       "      <td>1026.640000</td>\n",
       "      <td>29.566667</td>\n",
       "      <td>9071.000000</td>\n",
       "      <td>1.320000e+04</td>\n",
       "    </tr>\n",
       "    <tr>\n",
       "      <th>max</th>\n",
       "      <td>120.000000</td>\n",
       "      <td>125.000000</td>\n",
       "      <td>200.000000</td>\n",
       "      <td>6.900000</td>\n",
       "      <td>2169.320000</td>\n",
       "      <td>35.346667</td>\n",
       "      <td>712900.000000</td>\n",
       "      <td>2.589591e+06</td>\n",
       "    </tr>\n",
       "  </tbody>\n",
       "</table>\n",
       "</div>"
      ],
      "text/plain": [
       "                  N             P             K            pH      rainfall  \\\n",
       "count  63407.000000  63407.000000  63407.000000  63407.000000  63407.000000   \n",
       "mean      63.287176     40.450266     38.377703      5.676736    647.847776   \n",
       "std       30.560859     14.483340     25.344408      0.474031    521.207414   \n",
       "min       10.000000     10.000000     10.000000      4.820000      3.274569   \n",
       "25%       30.000000     40.000000     20.000000      5.400000    152.540000   \n",
       "50%       70.000000     40.000000     30.000000      5.560000    579.750000   \n",
       "75%       80.000000     40.000000     40.000000      5.980000   1026.640000   \n",
       "max      120.000000    125.000000    200.000000      6.900000   2169.320000   \n",
       "\n",
       "        temperature  Area_in_hectares  Production_in_tons  \n",
       "count  63407.000000      63407.000000        6.340700e+04  \n",
       "mean      27.079294      17375.294757        3.590214e+04  \n",
       "std        4.341383      45098.798195        1.148309e+05  \n",
       "min       14.600000          0.580000        0.000000e+00  \n",
       "25%       23.106000        128.000000        1.440000e+02  \n",
       "50%       27.333333       1026.000000        1.316000e+03  \n",
       "75%       29.566667       9071.000000        1.320000e+04  \n",
       "max       35.346667     712900.000000        2.589591e+06  "
      ]
     },
     "execution_count": 106,
     "metadata": {},
     "output_type": "execute_result"
    }
   ],
   "source": [
    "#statistical analysis\n",
    "x_train.describe()"
   ]
  },
  {
   "cell_type": "code",
   "execution_count": 107,
   "id": "a39901f3-2753-4e2c-ae68-bf08df571b63",
   "metadata": {},
   "outputs": [
    {
     "data": {
      "text/plain": [
       "((63407,), (27175,))"
      ]
     },
     "execution_count": 107,
     "metadata": {},
     "output_type": "execute_result"
    }
   ],
   "source": [
    "y_train.shape,y_test.shape"
   ]
  },
  {
   "cell_type": "markdown",
   "id": "4c88a672-b28f-435e-abbd-784136084220",
   "metadata": {},
   "source": [
    "# Columns having Correlation Coefficient greater than specified threshold"
   ]
  },
  {
   "cell_type": "code",
   "execution_count": 108,
   "id": "e78514ee-a49b-44d2-b525-3b823815e1e0",
   "metadata": {},
   "outputs": [],
   "source": [
    "def correlation(df,threshold):\n",
    "    col_corr=set()\n",
    "    cor_mat=df.corr()\n",
    "    for i in range(len(cor_mat.columns)):\n",
    "        for j in range(i):\n",
    "            if abs(cor_mat.iloc[i,j])>threshold:\n",
    "                colname=cor_mat.columns[i]\n",
    "                col_corr.add(colname)\n",
    "    return col_corr"
   ]
  },
  {
   "cell_type": "code",
   "execution_count": 109,
   "id": "458ad7ff-7a0e-494c-8a44-293821ddfca2",
   "metadata": {},
   "outputs": [
    {
     "data": {
      "text/plain": [
       "3"
      ]
     },
     "execution_count": 109,
     "metadata": {},
     "output_type": "execute_result"
    }
   ],
   "source": [
    "corr_features=correlation(x_train,0.3)\n",
    "len(set(corr_features))"
   ]
  },
  {
   "cell_type": "code",
   "execution_count": 110,
   "id": "c44342f6-8e5c-4db6-8629-896187db283b",
   "metadata": {},
   "outputs": [
    {
     "data": {
      "text/plain": [
       "{'K', 'Production_in_tons', 'rainfall'}"
      ]
     },
     "execution_count": 110,
     "metadata": {},
     "output_type": "execute_result"
    }
   ],
   "source": [
    "corr_features"
   ]
  },
  {
   "cell_type": "code",
   "execution_count": 111,
   "id": "ed302350-2c78-4080-86e1-5cca6df37eb1",
   "metadata": {},
   "outputs": [
    {
     "data": {
      "text/html": [
       "<div>\n",
       "<style scoped>\n",
       "    .dataframe tbody tr th:only-of-type {\n",
       "        vertical-align: middle;\n",
       "    }\n",
       "\n",
       "    .dataframe tbody tr th {\n",
       "        vertical-align: top;\n",
       "    }\n",
       "\n",
       "    .dataframe thead th {\n",
       "        text-align: right;\n",
       "    }\n",
       "</style>\n",
       "<table border=\"1\" class=\"dataframe\">\n",
       "  <thead>\n",
       "    <tr style=\"text-align: right;\">\n",
       "      <th></th>\n",
       "      <th>N</th>\n",
       "      <th>P</th>\n",
       "      <th>K</th>\n",
       "      <th>pH</th>\n",
       "      <th>rainfall</th>\n",
       "      <th>temperature</th>\n",
       "      <th>Area_in_hectares</th>\n",
       "      <th>Production_in_tons</th>\n",
       "    </tr>\n",
       "  </thead>\n",
       "  <tbody>\n",
       "    <tr>\n",
       "      <th>62501</th>\n",
       "      <td>20</td>\n",
       "      <td>60</td>\n",
       "      <td>20</td>\n",
       "      <td>5.98</td>\n",
       "      <td>98.940</td>\n",
       "      <td>25.574000</td>\n",
       "      <td>1065.0</td>\n",
       "      <td>305.0</td>\n",
       "    </tr>\n",
       "    <tr>\n",
       "      <th>46674</th>\n",
       "      <td>80</td>\n",
       "      <td>40</td>\n",
       "      <td>40</td>\n",
       "      <td>5.48</td>\n",
       "      <td>1246.715</td>\n",
       "      <td>22.600000</td>\n",
       "      <td>78702.0</td>\n",
       "      <td>139814.1</td>\n",
       "    </tr>\n",
       "    <tr>\n",
       "      <th>20526</th>\n",
       "      <td>80</td>\n",
       "      <td>40</td>\n",
       "      <td>40</td>\n",
       "      <td>5.56</td>\n",
       "      <td>411.520</td>\n",
       "      <td>34.730000</td>\n",
       "      <td>238000.0</td>\n",
       "      <td>939000.0</td>\n",
       "    </tr>\n",
       "    <tr>\n",
       "      <th>60757</th>\n",
       "      <td>80</td>\n",
       "      <td>40</td>\n",
       "      <td>40</td>\n",
       "      <td>5.32</td>\n",
       "      <td>607.480</td>\n",
       "      <td>26.366667</td>\n",
       "      <td>187000.0</td>\n",
       "      <td>209200.0</td>\n",
       "    </tr>\n",
       "    <tr>\n",
       "      <th>85668</th>\n",
       "      <td>20</td>\n",
       "      <td>60</td>\n",
       "      <td>20</td>\n",
       "      <td>5.38</td>\n",
       "      <td>790.980</td>\n",
       "      <td>30.616667</td>\n",
       "      <td>8100.0</td>\n",
       "      <td>6700.0</td>\n",
       "    </tr>\n",
       "  </tbody>\n",
       "</table>\n",
       "</div>"
      ],
      "text/plain": [
       "        N   P   K    pH  rainfall  temperature  Area_in_hectares  \\\n",
       "62501  20  60  20  5.98    98.940    25.574000            1065.0   \n",
       "46674  80  40  40  5.48  1246.715    22.600000           78702.0   \n",
       "20526  80  40  40  5.56   411.520    34.730000          238000.0   \n",
       "60757  80  40  40  5.32   607.480    26.366667          187000.0   \n",
       "85668  20  60  20  5.38   790.980    30.616667            8100.0   \n",
       "\n",
       "       Production_in_tons  \n",
       "62501               305.0  \n",
       "46674            139814.1  \n",
       "20526            939000.0  \n",
       "60757            209200.0  \n",
       "85668              6700.0  "
      ]
     },
     "execution_count": 111,
     "metadata": {},
     "output_type": "execute_result"
    }
   ],
   "source": [
    "x_train.head()"
   ]
  },
  {
   "cell_type": "markdown",
   "id": "c210e3fe-a1ea-4d40-a2f7-9f267bf4f850",
   "metadata": {},
   "source": [
    "# Eliminating higly correlated features:reduce Overfitting"
   ]
  },
  {
   "cell_type": "code",
   "execution_count": 113,
   "id": "9b8bdbf5-1d3d-4e7f-96cb-11316ffc3339",
   "metadata": {},
   "outputs": [
    {
     "data": {
      "text/html": [
       "<div>\n",
       "<style scoped>\n",
       "    .dataframe tbody tr th:only-of-type {\n",
       "        vertical-align: middle;\n",
       "    }\n",
       "\n",
       "    .dataframe tbody tr th {\n",
       "        vertical-align: top;\n",
       "    }\n",
       "\n",
       "    .dataframe thead th {\n",
       "        text-align: right;\n",
       "    }\n",
       "</style>\n",
       "<table border=\"1\" class=\"dataframe\">\n",
       "  <thead>\n",
       "    <tr style=\"text-align: right;\">\n",
       "      <th></th>\n",
       "      <th>N</th>\n",
       "      <th>P</th>\n",
       "      <th>pH</th>\n",
       "      <th>temperature</th>\n",
       "      <th>Area_in_hectares</th>\n",
       "    </tr>\n",
       "  </thead>\n",
       "  <tbody>\n",
       "    <tr>\n",
       "      <th>62501</th>\n",
       "      <td>20</td>\n",
       "      <td>60</td>\n",
       "      <td>5.98</td>\n",
       "      <td>25.574000</td>\n",
       "      <td>1065.0</td>\n",
       "    </tr>\n",
       "    <tr>\n",
       "      <th>46674</th>\n",
       "      <td>80</td>\n",
       "      <td>40</td>\n",
       "      <td>5.48</td>\n",
       "      <td>22.600000</td>\n",
       "      <td>78702.0</td>\n",
       "    </tr>\n",
       "    <tr>\n",
       "      <th>20526</th>\n",
       "      <td>80</td>\n",
       "      <td>40</td>\n",
       "      <td>5.56</td>\n",
       "      <td>34.730000</td>\n",
       "      <td>238000.0</td>\n",
       "    </tr>\n",
       "    <tr>\n",
       "      <th>60757</th>\n",
       "      <td>80</td>\n",
       "      <td>40</td>\n",
       "      <td>5.32</td>\n",
       "      <td>26.366667</td>\n",
       "      <td>187000.0</td>\n",
       "    </tr>\n",
       "    <tr>\n",
       "      <th>85668</th>\n",
       "      <td>20</td>\n",
       "      <td>60</td>\n",
       "      <td>5.38</td>\n",
       "      <td>30.616667</td>\n",
       "      <td>8100.0</td>\n",
       "    </tr>\n",
       "    <tr>\n",
       "      <th>...</th>\n",
       "      <td>...</td>\n",
       "      <td>...</td>\n",
       "      <td>...</td>\n",
       "      <td>...</td>\n",
       "      <td>...</td>\n",
       "    </tr>\n",
       "    <tr>\n",
       "      <th>21243</th>\n",
       "      <td>90</td>\n",
       "      <td>20</td>\n",
       "      <td>4.82</td>\n",
       "      <td>27.654545</td>\n",
       "      <td>77.0</td>\n",
       "    </tr>\n",
       "    <tr>\n",
       "      <th>45891</th>\n",
       "      <td>80</td>\n",
       "      <td>40</td>\n",
       "      <td>5.38</td>\n",
       "      <td>22.033333</td>\n",
       "      <td>4742.0</td>\n",
       "    </tr>\n",
       "    <tr>\n",
       "      <th>42613</th>\n",
       "      <td>30</td>\n",
       "      <td>15</td>\n",
       "      <td>6.60</td>\n",
       "      <td>29.566667</td>\n",
       "      <td>3661.0</td>\n",
       "    </tr>\n",
       "    <tr>\n",
       "      <th>43567</th>\n",
       "      <td>20</td>\n",
       "      <td>40</td>\n",
       "      <td>5.54</td>\n",
       "      <td>34.666667</td>\n",
       "      <td>18.0</td>\n",
       "    </tr>\n",
       "    <tr>\n",
       "      <th>68268</th>\n",
       "      <td>80</td>\n",
       "      <td>40</td>\n",
       "      <td>5.64</td>\n",
       "      <td>23.560000</td>\n",
       "      <td>86000.0</td>\n",
       "    </tr>\n",
       "  </tbody>\n",
       "</table>\n",
       "<p>63407 rows × 5 columns</p>\n",
       "</div>"
      ],
      "text/plain": [
       "        N   P    pH  temperature  Area_in_hectares\n",
       "62501  20  60  5.98    25.574000            1065.0\n",
       "46674  80  40  5.48    22.600000           78702.0\n",
       "20526  80  40  5.56    34.730000          238000.0\n",
       "60757  80  40  5.32    26.366667          187000.0\n",
       "85668  20  60  5.38    30.616667            8100.0\n",
       "...    ..  ..   ...          ...               ...\n",
       "21243  90  20  4.82    27.654545              77.0\n",
       "45891  80  40  5.38    22.033333            4742.0\n",
       "42613  30  15  6.60    29.566667            3661.0\n",
       "43567  20  40  5.54    34.666667              18.0\n",
       "68268  80  40  5.64    23.560000           86000.0\n",
       "\n",
       "[63407 rows x 5 columns]"
      ]
     },
     "execution_count": 113,
     "metadata": {},
     "output_type": "execute_result"
    }
   ],
   "source": [
    "df2=x_train.drop(corr_features,axis=1)\n",
    "df2"
   ]
  },
  {
   "cell_type": "code",
   "execution_count": 114,
   "id": "de960ade-c8e1-4e10-b637-3b975ba6ff4d",
   "metadata": {},
   "outputs": [
    {
     "data": {
      "text/html": [
       "<div>\n",
       "<style scoped>\n",
       "    .dataframe tbody tr th:only-of-type {\n",
       "        vertical-align: middle;\n",
       "    }\n",
       "\n",
       "    .dataframe tbody tr th {\n",
       "        vertical-align: top;\n",
       "    }\n",
       "\n",
       "    .dataframe thead th {\n",
       "        text-align: right;\n",
       "    }\n",
       "</style>\n",
       "<table border=\"1\" class=\"dataframe\">\n",
       "  <thead>\n",
       "    <tr style=\"text-align: right;\">\n",
       "      <th></th>\n",
       "      <th>N</th>\n",
       "      <th>P</th>\n",
       "      <th>pH</th>\n",
       "      <th>temperature</th>\n",
       "      <th>Area_in_hectares</th>\n",
       "    </tr>\n",
       "  </thead>\n",
       "  <tbody>\n",
       "    <tr>\n",
       "      <th>40668</th>\n",
       "      <td>100</td>\n",
       "      <td>75</td>\n",
       "      <td>6.32</td>\n",
       "      <td>26.018182</td>\n",
       "      <td>280.0</td>\n",
       "    </tr>\n",
       "    <tr>\n",
       "      <th>40169</th>\n",
       "      <td>50</td>\n",
       "      <td>50</td>\n",
       "      <td>6.08</td>\n",
       "      <td>28.648182</td>\n",
       "      <td>39.0</td>\n",
       "    </tr>\n",
       "    <tr>\n",
       "      <th>81766</th>\n",
       "      <td>50</td>\n",
       "      <td>40</td>\n",
       "      <td>5.12</td>\n",
       "      <td>22.766000</td>\n",
       "      <td>200126.0</td>\n",
       "    </tr>\n",
       "    <tr>\n",
       "      <th>9474</th>\n",
       "      <td>80</td>\n",
       "      <td>40</td>\n",
       "      <td>5.58</td>\n",
       "      <td>34.010000</td>\n",
       "      <td>45393.0</td>\n",
       "    </tr>\n",
       "    <tr>\n",
       "      <th>88263</th>\n",
       "      <td>50</td>\n",
       "      <td>40</td>\n",
       "      <td>5.18</td>\n",
       "      <td>23.560000</td>\n",
       "      <td>205.0</td>\n",
       "    </tr>\n",
       "    <tr>\n",
       "      <th>...</th>\n",
       "      <td>...</td>\n",
       "      <td>...</td>\n",
       "      <td>...</td>\n",
       "      <td>...</td>\n",
       "      <td>...</td>\n",
       "    </tr>\n",
       "    <tr>\n",
       "      <th>55662</th>\n",
       "      <td>50</td>\n",
       "      <td>10</td>\n",
       "      <td>5.36</td>\n",
       "      <td>27.654545</td>\n",
       "      <td>13.0</td>\n",
       "    </tr>\n",
       "    <tr>\n",
       "      <th>10909</th>\n",
       "      <td>80</td>\n",
       "      <td>40</td>\n",
       "      <td>5.68</td>\n",
       "      <td>33.583333</td>\n",
       "      <td>76.0</td>\n",
       "    </tr>\n",
       "    <tr>\n",
       "      <th>28134</th>\n",
       "      <td>50</td>\n",
       "      <td>40</td>\n",
       "      <td>5.10</td>\n",
       "      <td>22.676000</td>\n",
       "      <td>2448.0</td>\n",
       "    </tr>\n",
       "    <tr>\n",
       "      <th>36166</th>\n",
       "      <td>80</td>\n",
       "      <td>40</td>\n",
       "      <td>5.54</td>\n",
       "      <td>28.333333</td>\n",
       "      <td>62490.0</td>\n",
       "    </tr>\n",
       "    <tr>\n",
       "      <th>28538</th>\n",
       "      <td>80</td>\n",
       "      <td>40</td>\n",
       "      <td>5.68</td>\n",
       "      <td>29.200000</td>\n",
       "      <td>37634.0</td>\n",
       "    </tr>\n",
       "  </tbody>\n",
       "</table>\n",
       "<p>27175 rows × 5 columns</p>\n",
       "</div>"
      ],
      "text/plain": [
       "         N   P    pH  temperature  Area_in_hectares\n",
       "40668  100  75  6.32    26.018182             280.0\n",
       "40169   50  50  6.08    28.648182              39.0\n",
       "81766   50  40  5.12    22.766000          200126.0\n",
       "9474    80  40  5.58    34.010000           45393.0\n",
       "88263   50  40  5.18    23.560000             205.0\n",
       "...    ...  ..   ...          ...               ...\n",
       "55662   50  10  5.36    27.654545              13.0\n",
       "10909   80  40  5.68    33.583333              76.0\n",
       "28134   50  40  5.10    22.676000            2448.0\n",
       "36166   80  40  5.54    28.333333           62490.0\n",
       "28538   80  40  5.68    29.200000           37634.0\n",
       "\n",
       "[27175 rows x 5 columns]"
      ]
     },
     "execution_count": 114,
     "metadata": {},
     "output_type": "execute_result"
    }
   ],
   "source": [
    "df2=x_test.drop(corr_features,axis=1)\n",
    "df2"
   ]
  },
  {
   "cell_type": "markdown",
   "id": "a6f1f511-7bff-43db-b952-a82eb4f1cb92",
   "metadata": {},
   "source": [
    "# Calculating the Variance Inflation Factor for each feature"
   ]
  },
  {
   "cell_type": "code",
   "execution_count": 115,
   "id": "734d1e2a-c215-48fd-88af-bf26ab2f2513",
   "metadata": {},
   "outputs": [],
   "source": [
    "from statsmodels.stats.outliers_influence import variance_inflation_factor\n",
    "def cal_vif(dataset):\n",
    "    vif=pd.DataFrame()\n",
    "    vif[\"features\"]=dataset.columns\n",
    "    vif[\"VIF_value\"]=[variance_inflation_factor(dataset.values,i) for i in range(dataset.shape[1])]\n",
    "    return(vif)"
   ]
  },
  {
   "cell_type": "code",
   "execution_count": 116,
   "id": "5fa03746-06a7-41b3-90e0-e6cd776bd4db",
   "metadata": {},
   "outputs": [
    {
     "name": "stdout",
     "output_type": "stream",
     "text": [
      "         N   P    pH  temperature  Area_in_hectares\n",
      "40668  100  75  6.32    26.018182             280.0\n",
      "40169   50  50  6.08    28.648182              39.0\n",
      "81766   50  40  5.12    22.766000          200126.0\n",
      "9474    80  40  5.58    34.010000           45393.0\n",
      "88263   50  40  5.18    23.560000             205.0\n"
     ]
    },
    {
     "data": {
      "text/html": [
       "<div>\n",
       "<style scoped>\n",
       "    .dataframe tbody tr th:only-of-type {\n",
       "        vertical-align: middle;\n",
       "    }\n",
       "\n",
       "    .dataframe tbody tr th {\n",
       "        vertical-align: top;\n",
       "    }\n",
       "\n",
       "    .dataframe thead th {\n",
       "        text-align: right;\n",
       "    }\n",
       "</style>\n",
       "<table border=\"1\" class=\"dataframe\">\n",
       "  <thead>\n",
       "    <tr style=\"text-align: right;\">\n",
       "      <th></th>\n",
       "      <th>features</th>\n",
       "      <th>VIF_value</th>\n",
       "    </tr>\n",
       "  </thead>\n",
       "  <tbody>\n",
       "    <tr>\n",
       "      <th>0</th>\n",
       "      <td>N</td>\n",
       "      <td>5.653711</td>\n",
       "    </tr>\n",
       "    <tr>\n",
       "      <th>1</th>\n",
       "      <td>P</td>\n",
       "      <td>8.646254</td>\n",
       "    </tr>\n",
       "    <tr>\n",
       "      <th>2</th>\n",
       "      <td>pH</td>\n",
       "      <td>35.969822</td>\n",
       "    </tr>\n",
       "    <tr>\n",
       "      <th>3</th>\n",
       "      <td>temperature</td>\n",
       "      <td>32.504069</td>\n",
       "    </tr>\n",
       "    <tr>\n",
       "      <th>4</th>\n",
       "      <td>Area_in_hectares</td>\n",
       "      <td>1.166264</td>\n",
       "    </tr>\n",
       "  </tbody>\n",
       "</table>\n",
       "</div>"
      ],
      "text/plain": [
       "           features  VIF_value\n",
       "0                 N   5.653711\n",
       "1                 P   8.646254\n",
       "2                pH  35.969822\n",
       "3       temperature  32.504069\n",
       "4  Area_in_hectares   1.166264"
      ]
     },
     "execution_count": 116,
     "metadata": {},
     "output_type": "execute_result"
    }
   ],
   "source": [
    "features=df2\n",
    "print(features.head())\n",
    "cal_vif(features)"
   ]
  },
  {
   "cell_type": "markdown",
   "id": "33c35010-7bc3-4d29-be53-ed2d3fc3ad88",
   "metadata": {},
   "source": [
    "# Heatmap of the Correlation matrix"
   ]
  },
  {
   "cell_type": "code",
   "execution_count": 118,
   "id": "6c184f0f-90c5-404e-9d9c-68b609fa8071",
   "metadata": {},
   "outputs": [
    {
     "data": {
      "image/png": "[encoded data removed]",
      "text/plain": [
       "<Figure size 650x390 with 2 Axes>"
      ]
     },
     "metadata": {},
     "output_type": "display_data"
    }
   ],
   "source": [
    "import seaborn as sns\n",
    "import matplotlib.pyplot as plt\n",
    "\n",
    "cor_mat=df1.corr()\n",
    "plt.figure(figsize=(5,3),dpi=130)\n",
    "sns.heatmap(cor_mat,annot=True,fmt='.2f',annot_kws={\"size\":10})\n",
    "plt.show()"
   ]
  },
  {
   "cell_type": "code",
   "execution_count": 119,
   "id": "7c58f2fd-838c-47e0-9241-fb624843d9c0",
   "metadata": {},
   "outputs": [
    {
     "data": {
      "text/html": [
       "<div>\n",
       "<style scoped>\n",
       "    .dataframe tbody tr th:only-of-type {\n",
       "        vertical-align: middle;\n",
       "    }\n",
       "\n",
       "    .dataframe tbody tr th {\n",
       "        vertical-align: top;\n",
       "    }\n",
       "\n",
       "    .dataframe thead th {\n",
       "        text-align: right;\n",
       "    }\n",
       "</style>\n",
       "<table border=\"1\" class=\"dataframe\">\n",
       "  <thead>\n",
       "    <tr style=\"text-align: right;\">\n",
       "      <th></th>\n",
       "      <th>N</th>\n",
       "      <th>P</th>\n",
       "      <th>pH</th>\n",
       "      <th>Area_in_hectares</th>\n",
       "    </tr>\n",
       "  </thead>\n",
       "  <tbody>\n",
       "    <tr>\n",
       "      <th>40668</th>\n",
       "      <td>100</td>\n",
       "      <td>75</td>\n",
       "      <td>6.32</td>\n",
       "      <td>280.0</td>\n",
       "    </tr>\n",
       "    <tr>\n",
       "      <th>40169</th>\n",
       "      <td>50</td>\n",
       "      <td>50</td>\n",
       "      <td>6.08</td>\n",
       "      <td>39.0</td>\n",
       "    </tr>\n",
       "    <tr>\n",
       "      <th>81766</th>\n",
       "      <td>50</td>\n",
       "      <td>40</td>\n",
       "      <td>5.12</td>\n",
       "      <td>200126.0</td>\n",
       "    </tr>\n",
       "    <tr>\n",
       "      <th>9474</th>\n",
       "      <td>80</td>\n",
       "      <td>40</td>\n",
       "      <td>5.58</td>\n",
       "      <td>45393.0</td>\n",
       "    </tr>\n",
       "    <tr>\n",
       "      <th>88263</th>\n",
       "      <td>50</td>\n",
       "      <td>40</td>\n",
       "      <td>5.18</td>\n",
       "      <td>205.0</td>\n",
       "    </tr>\n",
       "    <tr>\n",
       "      <th>...</th>\n",
       "      <td>...</td>\n",
       "      <td>...</td>\n",
       "      <td>...</td>\n",
       "      <td>...</td>\n",
       "    </tr>\n",
       "    <tr>\n",
       "      <th>55662</th>\n",
       "      <td>50</td>\n",
       "      <td>10</td>\n",
       "      <td>5.36</td>\n",
       "      <td>13.0</td>\n",
       "    </tr>\n",
       "    <tr>\n",
       "      <th>10909</th>\n",
       "      <td>80</td>\n",
       "      <td>40</td>\n",
       "      <td>5.68</td>\n",
       "      <td>76.0</td>\n",
       "    </tr>\n",
       "    <tr>\n",
       "      <th>28134</th>\n",
       "      <td>50</td>\n",
       "      <td>40</td>\n",
       "      <td>5.10</td>\n",
       "      <td>2448.0</td>\n",
       "    </tr>\n",
       "    <tr>\n",
       "      <th>36166</th>\n",
       "      <td>80</td>\n",
       "      <td>40</td>\n",
       "      <td>5.54</td>\n",
       "      <td>62490.0</td>\n",
       "    </tr>\n",
       "    <tr>\n",
       "      <th>28538</th>\n",
       "      <td>80</td>\n",
       "      <td>40</td>\n",
       "      <td>5.68</td>\n",
       "      <td>37634.0</td>\n",
       "    </tr>\n",
       "  </tbody>\n",
       "</table>\n",
       "<p>27175 rows × 4 columns</p>\n",
       "</div>"
      ],
      "text/plain": [
       "         N   P    pH  Area_in_hectares\n",
       "40668  100  75  6.32             280.0\n",
       "40169   50  50  6.08              39.0\n",
       "81766   50  40  5.12          200126.0\n",
       "9474    80  40  5.58           45393.0\n",
       "88263   50  40  5.18             205.0\n",
       "...    ...  ..   ...               ...\n",
       "55662   50  10  5.36              13.0\n",
       "10909   80  40  5.68              76.0\n",
       "28134   50  40  5.10            2448.0\n",
       "36166   80  40  5.54           62490.0\n",
       "28538   80  40  5.68           37634.0\n",
       "\n",
       "[27175 rows x 4 columns]"
      ]
     },
     "execution_count": 119,
     "metadata": {},
     "output_type": "execute_result"
    }
   ],
   "source": [
    "df2=df2.drop([\"temperature\"],axis=1)\n",
    "df2"
   ]
  },
  {
   "cell_type": "code",
   "execution_count": 120,
   "id": "3ddfabcc-30b3-4bcd-a7b3-ef61228eb05c",
   "metadata": {},
   "outputs": [
    {
     "data": {
      "text/html": [
       "<div>\n",
       "<style scoped>\n",
       "    .dataframe tbody tr th:only-of-type {\n",
       "        vertical-align: middle;\n",
       "    }\n",
       "\n",
       "    .dataframe tbody tr th {\n",
       "        vertical-align: top;\n",
       "    }\n",
       "\n",
       "    .dataframe thead th {\n",
       "        text-align: right;\n",
       "    }\n",
       "</style>\n",
       "<table border=\"1\" class=\"dataframe\">\n",
       "  <thead>\n",
       "    <tr style=\"text-align: right;\">\n",
       "      <th></th>\n",
       "      <th>N</th>\n",
       "      <th>P</th>\n",
       "      <th>pH</th>\n",
       "      <th>temperature</th>\n",
       "      <th>Area_in_hectares</th>\n",
       "    </tr>\n",
       "  </thead>\n",
       "  <tbody>\n",
       "    <tr>\n",
       "      <th>62501</th>\n",
       "      <td>20</td>\n",
       "      <td>60</td>\n",
       "      <td>5.98</td>\n",
       "      <td>25.574000</td>\n",
       "      <td>1065.0</td>\n",
       "    </tr>\n",
       "    <tr>\n",
       "      <th>46674</th>\n",
       "      <td>80</td>\n",
       "      <td>40</td>\n",
       "      <td>5.48</td>\n",
       "      <td>22.600000</td>\n",
       "      <td>78702.0</td>\n",
       "    </tr>\n",
       "    <tr>\n",
       "      <th>20526</th>\n",
       "      <td>80</td>\n",
       "      <td>40</td>\n",
       "      <td>5.56</td>\n",
       "      <td>34.730000</td>\n",
       "      <td>238000.0</td>\n",
       "    </tr>\n",
       "    <tr>\n",
       "      <th>60757</th>\n",
       "      <td>80</td>\n",
       "      <td>40</td>\n",
       "      <td>5.32</td>\n",
       "      <td>26.366667</td>\n",
       "      <td>187000.0</td>\n",
       "    </tr>\n",
       "    <tr>\n",
       "      <th>85668</th>\n",
       "      <td>20</td>\n",
       "      <td>60</td>\n",
       "      <td>5.38</td>\n",
       "      <td>30.616667</td>\n",
       "      <td>8100.0</td>\n",
       "    </tr>\n",
       "    <tr>\n",
       "      <th>...</th>\n",
       "      <td>...</td>\n",
       "      <td>...</td>\n",
       "      <td>...</td>\n",
       "      <td>...</td>\n",
       "      <td>...</td>\n",
       "    </tr>\n",
       "    <tr>\n",
       "      <th>21243</th>\n",
       "      <td>90</td>\n",
       "      <td>20</td>\n",
       "      <td>4.82</td>\n",
       "      <td>27.654545</td>\n",
       "      <td>77.0</td>\n",
       "    </tr>\n",
       "    <tr>\n",
       "      <th>45891</th>\n",
       "      <td>80</td>\n",
       "      <td>40</td>\n",
       "      <td>5.38</td>\n",
       "      <td>22.033333</td>\n",
       "      <td>4742.0</td>\n",
       "    </tr>\n",
       "    <tr>\n",
       "      <th>42613</th>\n",
       "      <td>30</td>\n",
       "      <td>15</td>\n",
       "      <td>6.60</td>\n",
       "      <td>29.566667</td>\n",
       "      <td>3661.0</td>\n",
       "    </tr>\n",
       "    <tr>\n",
       "      <th>43567</th>\n",
       "      <td>20</td>\n",
       "      <td>40</td>\n",
       "      <td>5.54</td>\n",
       "      <td>34.666667</td>\n",
       "      <td>18.0</td>\n",
       "    </tr>\n",
       "    <tr>\n",
       "      <th>68268</th>\n",
       "      <td>80</td>\n",
       "      <td>40</td>\n",
       "      <td>5.64</td>\n",
       "      <td>23.560000</td>\n",
       "      <td>86000.0</td>\n",
       "    </tr>\n",
       "  </tbody>\n",
       "</table>\n",
       "<p>63407 rows × 5 columns</p>\n",
       "</div>"
      ],
      "text/plain": [
       "        N   P    pH  temperature  Area_in_hectares\n",
       "62501  20  60  5.98    25.574000            1065.0\n",
       "46674  80  40  5.48    22.600000           78702.0\n",
       "20526  80  40  5.56    34.730000          238000.0\n",
       "60757  80  40  5.32    26.366667          187000.0\n",
       "85668  20  60  5.38    30.616667            8100.0\n",
       "...    ..  ..   ...          ...               ...\n",
       "21243  90  20  4.82    27.654545              77.0\n",
       "45891  80  40  5.38    22.033333            4742.0\n",
       "42613  30  15  6.60    29.566667            3661.0\n",
       "43567  20  40  5.54    34.666667              18.0\n",
       "68268  80  40  5.64    23.560000           86000.0\n",
       "\n",
       "[63407 rows x 5 columns]"
      ]
     },
     "execution_count": 120,
     "metadata": {},
     "output_type": "execute_result"
    }
   ],
   "source": [
    "df2=x_train.drop(corr_features,axis=1)\n",
    "df2"
   ]
  },
  {
   "cell_type": "markdown",
   "id": "95d56811-6b60-4fdf-a2a8-00e6270aad5f",
   "metadata": {},
   "source": [
    "# Removing temperature"
   ]
  },
  {
   "cell_type": "code",
   "execution_count": 121,
   "id": "d316cbd4-7a80-48fd-a53c-2d148a61cfd6",
   "metadata": {},
   "outputs": [
    {
     "data": {
      "text/html": [
       "<div>\n",
       "<style scoped>\n",
       "    .dataframe tbody tr th:only-of-type {\n",
       "        vertical-align: middle;\n",
       "    }\n",
       "\n",
       "    .dataframe tbody tr th {\n",
       "        vertical-align: top;\n",
       "    }\n",
       "\n",
       "    .dataframe thead th {\n",
       "        text-align: right;\n",
       "    }\n",
       "</style>\n",
       "<table border=\"1\" class=\"dataframe\">\n",
       "  <thead>\n",
       "    <tr style=\"text-align: right;\">\n",
       "      <th></th>\n",
       "      <th>N</th>\n",
       "      <th>P</th>\n",
       "      <th>pH</th>\n",
       "      <th>Area_in_hectares</th>\n",
       "    </tr>\n",
       "  </thead>\n",
       "  <tbody>\n",
       "    <tr>\n",
       "      <th>62501</th>\n",
       "      <td>20</td>\n",
       "      <td>60</td>\n",
       "      <td>5.98</td>\n",
       "      <td>1065.0</td>\n",
       "    </tr>\n",
       "    <tr>\n",
       "      <th>46674</th>\n",
       "      <td>80</td>\n",
       "      <td>40</td>\n",
       "      <td>5.48</td>\n",
       "      <td>78702.0</td>\n",
       "    </tr>\n",
       "    <tr>\n",
       "      <th>20526</th>\n",
       "      <td>80</td>\n",
       "      <td>40</td>\n",
       "      <td>5.56</td>\n",
       "      <td>238000.0</td>\n",
       "    </tr>\n",
       "    <tr>\n",
       "      <th>60757</th>\n",
       "      <td>80</td>\n",
       "      <td>40</td>\n",
       "      <td>5.32</td>\n",
       "      <td>187000.0</td>\n",
       "    </tr>\n",
       "    <tr>\n",
       "      <th>85668</th>\n",
       "      <td>20</td>\n",
       "      <td>60</td>\n",
       "      <td>5.38</td>\n",
       "      <td>8100.0</td>\n",
       "    </tr>\n",
       "    <tr>\n",
       "      <th>...</th>\n",
       "      <td>...</td>\n",
       "      <td>...</td>\n",
       "      <td>...</td>\n",
       "      <td>...</td>\n",
       "    </tr>\n",
       "    <tr>\n",
       "      <th>21243</th>\n",
       "      <td>90</td>\n",
       "      <td>20</td>\n",
       "      <td>4.82</td>\n",
       "      <td>77.0</td>\n",
       "    </tr>\n",
       "    <tr>\n",
       "      <th>45891</th>\n",
       "      <td>80</td>\n",
       "      <td>40</td>\n",
       "      <td>5.38</td>\n",
       "      <td>4742.0</td>\n",
       "    </tr>\n",
       "    <tr>\n",
       "      <th>42613</th>\n",
       "      <td>30</td>\n",
       "      <td>15</td>\n",
       "      <td>6.60</td>\n",
       "      <td>3661.0</td>\n",
       "    </tr>\n",
       "    <tr>\n",
       "      <th>43567</th>\n",
       "      <td>20</td>\n",
       "      <td>40</td>\n",
       "      <td>5.54</td>\n",
       "      <td>18.0</td>\n",
       "    </tr>\n",
       "    <tr>\n",
       "      <th>68268</th>\n",
       "      <td>80</td>\n",
       "      <td>40</td>\n",
       "      <td>5.64</td>\n",
       "      <td>86000.0</td>\n",
       "    </tr>\n",
       "  </tbody>\n",
       "</table>\n",
       "<p>63407 rows × 4 columns</p>\n",
       "</div>"
      ],
      "text/plain": [
       "        N   P    pH  Area_in_hectares\n",
       "62501  20  60  5.98            1065.0\n",
       "46674  80  40  5.48           78702.0\n",
       "20526  80  40  5.56          238000.0\n",
       "60757  80  40  5.32          187000.0\n",
       "85668  20  60  5.38            8100.0\n",
       "...    ..  ..   ...               ...\n",
       "21243  90  20  4.82              77.0\n",
       "45891  80  40  5.38            4742.0\n",
       "42613  30  15  6.60            3661.0\n",
       "43567  20  40  5.54              18.0\n",
       "68268  80  40  5.64           86000.0\n",
       "\n",
       "[63407 rows x 4 columns]"
      ]
     },
     "execution_count": 121,
     "metadata": {},
     "output_type": "execute_result"
    }
   ],
   "source": [
    "df2=df2.drop([\"temperature\"],axis=1)\n",
    "df2"
   ]
  },
  {
   "cell_type": "code",
   "execution_count": null,
   "id": "143d6efd-bd00-444e-a75b-754dcea24d08",
   "metadata": {},
   "outputs": [],
   "source": []
  }
 ],
 "metadata": {
  "kernelspec": {
   "display_name": "Python 3 (ipykernel)",
   "language": "python",
   "name": "python3"
  },
  "language_info": {
   "codemirror_mode": {
    "name": "ipython",
    "version": 3
   },
   "file_extension": ".py",
   "mimetype": "text/x-python",
   "name": "python",
   "nbconvert_exporter": "python",
   "pygments_lexer": "ipython3",
   "version": "3.9.13"
  }
 },
 "nbformat": 4,
 "nbformat_minor": 5
}
